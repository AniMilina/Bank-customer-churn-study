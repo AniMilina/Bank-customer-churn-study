{
 "cells": [
  {
   "cell_type": "markdown",
   "metadata": {
    "toc": true
   },
   "source": [
    "<h1>Содержание<span class=\"tocSkip\"></span></h1>\n",
    "<div class=\"toc\"><ul class=\"toc-item\"><li><span><a href=\"#Подготовка-данных\" data-toc-modified-id=\"Подготовка-данных-1\"><span class=\"toc-item-num\">1&nbsp;&nbsp;</span>Подготовка данных</a></span></li><li><span><a href=\"#Исследование-задачи\" data-toc-modified-id=\"Исследование-задачи-2\"><span class=\"toc-item-num\">2&nbsp;&nbsp;</span>Исследование задачи</a></span></li><li><span><a href=\"#Борьба-с-дисбалансом\" data-toc-modified-id=\"Борьба-с-дисбалансом-3\"><span class=\"toc-item-num\">3&nbsp;&nbsp;</span>Борьба с дисбалансом</a></span></li><li><span><a href=\"#Тестирование-модели\" data-toc-modified-id=\"Тестирование-модели-4\"><span class=\"toc-item-num\">4&nbsp;&nbsp;</span>Тестирование модели</a></span></li></ul></div>"
   ]
  },
  {
   "cell_type": "markdown",
   "metadata": {},
   "source": [
    "# Отток клиентов"
   ]
  },
  {
   "cell_type": "markdown",
   "metadata": {},
   "source": [
    "Из «Бета-Банка» стали уходить клиенты. Каждый месяц. Немного, но заметно. Банковские маркетологи посчитали: сохранять текущих клиентов дешевле, чем привлекать новых.\n",
    "\n",
    "Нужно спрогнозировать, уйдёт клиент из банка в ближайшее время или нет. Мне предоставлены исторические данные о поведении клиентов и расторжении договоров с банком. \n",
    "\n",
    "В исследовании необходимо построить модель с предельно большим значением *F1*-меры. Согласно поставленной задаче, нужно довести метрику до 0.59, а также проверить *F1*-меру на тестовой выборке. Помимо этого, я буду измерять *AUC-ROC*, сравнивать её значение с *F1*-мерой.\n",
    "\n",
    "Источник данных: [https://www.kaggle.com/barelydedicated/bank-customer-churn-modeling](https://www.kaggle.com/barelydedicated/bank-customer-churn-modeling)"
   ]
  },
  {
   "cell_type": "markdown",
   "metadata": {},
   "source": [
    "## Подготовка данных\n",
    "\n",
    "Импортируем библиотеки, которые понадобятся для исследования:"
   ]
  },
  {
   "cell_type": "code",
   "execution_count": 1,
   "metadata": {},
   "outputs": [],
   "source": [
    "import pandas as pd\n",
    "\n",
    "import math\n",
    "\n",
    "import sklearn\n",
    "\n",
    "import warnings\n",
    "warnings.filterwarnings('ignore')\n",
    "\n",
    "import numpy as np\n",
    "\n",
    "import seaborn as sns\n",
    "\n",
    "import matplotlib.pyplot as plt\n",
    "\n",
    "from sklearn.model_selection import train_test_split\n",
    "\n",
    "from sklearn.preprocessing import StandardScaler\n",
    "\n",
    "from sklearn.tree import DecisionTreeClassifier\n",
    "\n",
    "from sklearn.ensemble import RandomForestClassifier\n",
    "\n",
    "from sklearn.linear_model import LogisticRegression\n",
    "\n",
    "from sklearn.metrics import roc_auc_score\n",
    "\n",
    "from sklearn.metrics import roc_curve \n",
    "\n",
    "from sklearn.metrics import accuracy_score\n",
    "\n",
    "from sklearn.metrics import precision_score, recall_score\n",
    "\n",
    "from sklearn import svm, datasets\n",
    "\n",
    "from sklearn.metrics import confusion_matrix\n",
    "\n",
    "from sklearn.metrics import f1_score\n",
    "\n",
    "from sklearn.utils import resample\n",
    "\n",
    "from sklearn.utils import shuffle\n",
    "\n",
    "from sklearn.model_selection import GridSearchCV \n",
    "\n",
    "from sklearn.metrics import classification_report\n",
    "\n",
    "from sklearn.model_selection import RandomizedSearchCV"
   ]
  },
  {
   "cell_type": "markdown",
   "metadata": {},
   "source": [
    "Познакомимся с данными и сохраним их в переменную df:"
   ]
  },
  {
   "cell_type": "code",
   "execution_count": 2,
   "metadata": {},
   "outputs": [],
   "source": [
    "df = pd.read_csv('/datasets/Churn.csv')"
   ]
  },
  {
   "cell_type": "markdown",
   "metadata": {},
   "source": [
    "Проверим информацию о датасете и выведем на экран первые пять строк:"
   ]
  },
  {
   "cell_type": "code",
   "execution_count": 3,
   "metadata": {},
   "outputs": [
    {
     "name": "stdout",
     "output_type": "stream",
     "text": [
      "<class 'pandas.core.frame.DataFrame'>\n",
      "RangeIndex: 10000 entries, 0 to 9999\n",
      "Data columns (total 14 columns):\n",
      " #   Column           Non-Null Count  Dtype  \n",
      "---  ------           --------------  -----  \n",
      " 0   RowNumber        10000 non-null  int64  \n",
      " 1   CustomerId       10000 non-null  int64  \n",
      " 2   Surname          10000 non-null  object \n",
      " 3   CreditScore      10000 non-null  int64  \n",
      " 4   Geography        10000 non-null  object \n",
      " 5   Gender           10000 non-null  object \n",
      " 6   Age              10000 non-null  int64  \n",
      " 7   Tenure           9091 non-null   float64\n",
      " 8   Balance          10000 non-null  float64\n",
      " 9   NumOfProducts    10000 non-null  int64  \n",
      " 10  HasCrCard        10000 non-null  int64  \n",
      " 11  IsActiveMember   10000 non-null  int64  \n",
      " 12  EstimatedSalary  10000 non-null  float64\n",
      " 13  Exited           10000 non-null  int64  \n",
      "dtypes: float64(3), int64(8), object(3)\n",
      "memory usage: 1.1+ MB\n",
      "None\n"
     ]
    },
    {
     "data": {
      "text/html": [
       "<div>\n",
       "<style scoped>\n",
       "    .dataframe tbody tr th:only-of-type {\n",
       "        vertical-align: middle;\n",
       "    }\n",
       "\n",
       "    .dataframe tbody tr th {\n",
       "        vertical-align: top;\n",
       "    }\n",
       "\n",
       "    .dataframe thead th {\n",
       "        text-align: right;\n",
       "    }\n",
       "</style>\n",
       "<table border=\"1\" class=\"dataframe\">\n",
       "  <thead>\n",
       "    <tr style=\"text-align: right;\">\n",
       "      <th></th>\n",
       "      <th>RowNumber</th>\n",
       "      <th>CustomerId</th>\n",
       "      <th>Surname</th>\n",
       "      <th>CreditScore</th>\n",
       "      <th>Geography</th>\n",
       "      <th>Gender</th>\n",
       "      <th>Age</th>\n",
       "      <th>Tenure</th>\n",
       "      <th>Balance</th>\n",
       "      <th>NumOfProducts</th>\n",
       "      <th>HasCrCard</th>\n",
       "      <th>IsActiveMember</th>\n",
       "      <th>EstimatedSalary</th>\n",
       "      <th>Exited</th>\n",
       "    </tr>\n",
       "  </thead>\n",
       "  <tbody>\n",
       "    <tr>\n",
       "      <th>0</th>\n",
       "      <td>1</td>\n",
       "      <td>15634602</td>\n",
       "      <td>Hargrave</td>\n",
       "      <td>619</td>\n",
       "      <td>France</td>\n",
       "      <td>Female</td>\n",
       "      <td>42</td>\n",
       "      <td>2.0</td>\n",
       "      <td>0.00</td>\n",
       "      <td>1</td>\n",
       "      <td>1</td>\n",
       "      <td>1</td>\n",
       "      <td>101348.88</td>\n",
       "      <td>1</td>\n",
       "    </tr>\n",
       "    <tr>\n",
       "      <th>1</th>\n",
       "      <td>2</td>\n",
       "      <td>15647311</td>\n",
       "      <td>Hill</td>\n",
       "      <td>608</td>\n",
       "      <td>Spain</td>\n",
       "      <td>Female</td>\n",
       "      <td>41</td>\n",
       "      <td>1.0</td>\n",
       "      <td>83807.86</td>\n",
       "      <td>1</td>\n",
       "      <td>0</td>\n",
       "      <td>1</td>\n",
       "      <td>112542.58</td>\n",
       "      <td>0</td>\n",
       "    </tr>\n",
       "    <tr>\n",
       "      <th>2</th>\n",
       "      <td>3</td>\n",
       "      <td>15619304</td>\n",
       "      <td>Onio</td>\n",
       "      <td>502</td>\n",
       "      <td>France</td>\n",
       "      <td>Female</td>\n",
       "      <td>42</td>\n",
       "      <td>8.0</td>\n",
       "      <td>159660.80</td>\n",
       "      <td>3</td>\n",
       "      <td>1</td>\n",
       "      <td>0</td>\n",
       "      <td>113931.57</td>\n",
       "      <td>1</td>\n",
       "    </tr>\n",
       "    <tr>\n",
       "      <th>3</th>\n",
       "      <td>4</td>\n",
       "      <td>15701354</td>\n",
       "      <td>Boni</td>\n",
       "      <td>699</td>\n",
       "      <td>France</td>\n",
       "      <td>Female</td>\n",
       "      <td>39</td>\n",
       "      <td>1.0</td>\n",
       "      <td>0.00</td>\n",
       "      <td>2</td>\n",
       "      <td>0</td>\n",
       "      <td>0</td>\n",
       "      <td>93826.63</td>\n",
       "      <td>0</td>\n",
       "    </tr>\n",
       "    <tr>\n",
       "      <th>4</th>\n",
       "      <td>5</td>\n",
       "      <td>15737888</td>\n",
       "      <td>Mitchell</td>\n",
       "      <td>850</td>\n",
       "      <td>Spain</td>\n",
       "      <td>Female</td>\n",
       "      <td>43</td>\n",
       "      <td>2.0</td>\n",
       "      <td>125510.82</td>\n",
       "      <td>1</td>\n",
       "      <td>1</td>\n",
       "      <td>1</td>\n",
       "      <td>79084.10</td>\n",
       "      <td>0</td>\n",
       "    </tr>\n",
       "  </tbody>\n",
       "</table>\n",
       "</div>"
      ],
      "text/plain": [
       "   RowNumber  CustomerId   Surname  CreditScore Geography  Gender  Age  \\\n",
       "0          1    15634602  Hargrave          619    France  Female   42   \n",
       "1          2    15647311      Hill          608     Spain  Female   41   \n",
       "2          3    15619304      Onio          502    France  Female   42   \n",
       "3          4    15701354      Boni          699    France  Female   39   \n",
       "4          5    15737888  Mitchell          850     Spain  Female   43   \n",
       "\n",
       "   Tenure    Balance  NumOfProducts  HasCrCard  IsActiveMember  \\\n",
       "0     2.0       0.00              1          1               1   \n",
       "1     1.0   83807.86              1          0               1   \n",
       "2     8.0  159660.80              3          1               0   \n",
       "3     1.0       0.00              2          0               0   \n",
       "4     2.0  125510.82              1          1               1   \n",
       "\n",
       "   EstimatedSalary  Exited  \n",
       "0        101348.88       1  \n",
       "1        112542.58       0  \n",
       "2        113931.57       1  \n",
       "3         93826.63       0  \n",
       "4         79084.10       0  "
      ]
     },
     "execution_count": 3,
     "metadata": {},
     "output_type": "execute_result"
    }
   ],
   "source": [
    "print(df.info())\n",
    "df.head()"
   ]
  },
  {
   "cell_type": "markdown",
   "metadata": {},
   "source": [
    "В целом, данные в порядке. Но мы видим, что столбец Tenure — сколько лет человек является клиентом банка - имеет пропуски.  \n",
    "\n",
    "Можно предположить, что период исчесляется в годах и тогда клиенты которые пользуются услугами банка несколько месяцев отмечены пропуском, но это вряд ли соответствует действительности, так как столбец Tenure - имеет тип float64, то есть плавающая запятая позволяет нам указать неполный год.  \n",
    "\n",
    "Таким образом пока допустим, что это ошибка означает, что при заполнении данные не были добавлены. Количество пропусков составляет примерно 10% от общего. \n",
    "\n",
    "Мы можем применить несколько способов очистки данных, например:\n",
    "\n",
    "* Удалить объекты с пропусками\n",
    "* Заменить значение пропусков на медиану\n",
    "* Заменить значения пропусков на ноль\n",
    "\n",
    "Но в данном случае, я применю способ замены пропусков на ноль. Учитывая относительно небольшое количество пропусков. И сразу изменю тип данных на целое число."
   ]
  },
  {
   "cell_type": "code",
   "execution_count": 4,
   "metadata": {},
   "outputs": [
    {
     "data": {
      "text/html": [
       "<div>\n",
       "<style scoped>\n",
       "    .dataframe tbody tr th:only-of-type {\n",
       "        vertical-align: middle;\n",
       "    }\n",
       "\n",
       "    .dataframe tbody tr th {\n",
       "        vertical-align: top;\n",
       "    }\n",
       "\n",
       "    .dataframe thead th {\n",
       "        text-align: right;\n",
       "    }\n",
       "</style>\n",
       "<table border=\"1\" class=\"dataframe\">\n",
       "  <thead>\n",
       "    <tr style=\"text-align: right;\">\n",
       "      <th></th>\n",
       "      <th>RowNumber</th>\n",
       "      <th>CustomerId</th>\n",
       "      <th>Surname</th>\n",
       "      <th>CreditScore</th>\n",
       "      <th>Geography</th>\n",
       "      <th>Gender</th>\n",
       "      <th>Age</th>\n",
       "      <th>Tenure</th>\n",
       "      <th>Balance</th>\n",
       "      <th>NumOfProducts</th>\n",
       "      <th>HasCrCard</th>\n",
       "      <th>IsActiveMember</th>\n",
       "      <th>EstimatedSalary</th>\n",
       "      <th>Exited</th>\n",
       "    </tr>\n",
       "  </thead>\n",
       "  <tbody>\n",
       "    <tr>\n",
       "      <th>0</th>\n",
       "      <td>1</td>\n",
       "      <td>15634602</td>\n",
       "      <td>Hargrave</td>\n",
       "      <td>619</td>\n",
       "      <td>France</td>\n",
       "      <td>Female</td>\n",
       "      <td>42</td>\n",
       "      <td>2</td>\n",
       "      <td>0.00</td>\n",
       "      <td>1</td>\n",
       "      <td>1</td>\n",
       "      <td>1</td>\n",
       "      <td>101348.88</td>\n",
       "      <td>1</td>\n",
       "    </tr>\n",
       "    <tr>\n",
       "      <th>1</th>\n",
       "      <td>2</td>\n",
       "      <td>15647311</td>\n",
       "      <td>Hill</td>\n",
       "      <td>608</td>\n",
       "      <td>Spain</td>\n",
       "      <td>Female</td>\n",
       "      <td>41</td>\n",
       "      <td>1</td>\n",
       "      <td>83807.86</td>\n",
       "      <td>1</td>\n",
       "      <td>0</td>\n",
       "      <td>1</td>\n",
       "      <td>112542.58</td>\n",
       "      <td>0</td>\n",
       "    </tr>\n",
       "    <tr>\n",
       "      <th>2</th>\n",
       "      <td>3</td>\n",
       "      <td>15619304</td>\n",
       "      <td>Onio</td>\n",
       "      <td>502</td>\n",
       "      <td>France</td>\n",
       "      <td>Female</td>\n",
       "      <td>42</td>\n",
       "      <td>8</td>\n",
       "      <td>159660.80</td>\n",
       "      <td>3</td>\n",
       "      <td>1</td>\n",
       "      <td>0</td>\n",
       "      <td>113931.57</td>\n",
       "      <td>1</td>\n",
       "    </tr>\n",
       "    <tr>\n",
       "      <th>3</th>\n",
       "      <td>4</td>\n",
       "      <td>15701354</td>\n",
       "      <td>Boni</td>\n",
       "      <td>699</td>\n",
       "      <td>France</td>\n",
       "      <td>Female</td>\n",
       "      <td>39</td>\n",
       "      <td>1</td>\n",
       "      <td>0.00</td>\n",
       "      <td>2</td>\n",
       "      <td>0</td>\n",
       "      <td>0</td>\n",
       "      <td>93826.63</td>\n",
       "      <td>0</td>\n",
       "    </tr>\n",
       "    <tr>\n",
       "      <th>4</th>\n",
       "      <td>5</td>\n",
       "      <td>15737888</td>\n",
       "      <td>Mitchell</td>\n",
       "      <td>850</td>\n",
       "      <td>Spain</td>\n",
       "      <td>Female</td>\n",
       "      <td>43</td>\n",
       "      <td>2</td>\n",
       "      <td>125510.82</td>\n",
       "      <td>1</td>\n",
       "      <td>1</td>\n",
       "      <td>1</td>\n",
       "      <td>79084.10</td>\n",
       "      <td>0</td>\n",
       "    </tr>\n",
       "  </tbody>\n",
       "</table>\n",
       "</div>"
      ],
      "text/plain": [
       "   RowNumber  CustomerId   Surname  CreditScore Geography  Gender  Age  \\\n",
       "0          1    15634602  Hargrave          619    France  Female   42   \n",
       "1          2    15647311      Hill          608     Spain  Female   41   \n",
       "2          3    15619304      Onio          502    France  Female   42   \n",
       "3          4    15701354      Boni          699    France  Female   39   \n",
       "4          5    15737888  Mitchell          850     Spain  Female   43   \n",
       "\n",
       "   Tenure    Balance  NumOfProducts  HasCrCard  IsActiveMember  \\\n",
       "0       2       0.00              1          1               1   \n",
       "1       1   83807.86              1          0               1   \n",
       "2       8  159660.80              3          1               0   \n",
       "3       1       0.00              2          0               0   \n",
       "4       2  125510.82              1          1               1   \n",
       "\n",
       "   EstimatedSalary  Exited  \n",
       "0        101348.88       1  \n",
       "1        112542.58       0  \n",
       "2        113931.57       1  \n",
       "3         93826.63       0  \n",
       "4         79084.10       0  "
      ]
     },
     "execution_count": 4,
     "metadata": {},
     "output_type": "execute_result"
    }
   ],
   "source": [
    "df['Tenure'] = df['Tenure'].fillna(0)\n",
    "\n",
    "df['Tenure'] = df['Tenure'].astype('int64') #и меняем тип\n",
    "\n",
    "df.head()"
   ]
  },
  {
   "cell_type": "markdown",
   "metadata": {},
   "source": [
    "Удалим из датафрейма столбцы Surname и RowNumber, которые не влияют на результат исследования, но их наличие только усложнит модель."
   ]
  },
  {
   "cell_type": "code",
   "execution_count": 5,
   "metadata": {},
   "outputs": [],
   "source": [
    "df = df.drop(['Surname','RowNumber','CustomerId'],axis=1)"
   ]
  },
  {
   "cell_type": "markdown",
   "metadata": {},
   "source": [
    "Преобразуем категориальные признаки в количественные с помощью техники прямого кодирования (OHE), в этом поможет метод .get_dummies, это нужно чтобы не попасть в  дамми-ловушку, когда фиктивных признаков слишком много."
   ]
  },
  {
   "cell_type": "markdown",
   "metadata": {},
   "source": [
    "Теперь разделим датафрейм на features и target - целевой признак, а потом разделим датафрейм на обучающую выборку, валидационную выборку и тестовую выборку\n",
    "\n"
   ]
  },
  {
   "cell_type": "code",
   "execution_count": 6,
   "metadata": {},
   "outputs": [],
   "source": [
    "target = df['Exited']\n",
    "features = df.drop('Exited', axis=1)\n",
    "\n",
    "features_train_valid, features_test, target_train_valid, target_test = train_test_split(\n",
    "    features, target, test_size=0.2, random_state=12345, stratify=target)\n",
    "\n",
    "\n",
    "features_train, features_valid, target_train, target_valid = train_test_split(\n",
    "    features_train_valid, target_train_valid, test_size=0.25, random_state=12345, stratify=target_train_valid)"
   ]
  },
  {
   "cell_type": "code",
   "execution_count": 7,
   "metadata": {},
   "outputs": [],
   "source": [
    "features_train = pd.get_dummies(features_train, drop_first=True)\n",
    "features_valid = pd.get_dummies(features_valid, drop_first=True)\n",
    "features_test = pd.get_dummies(features_test, drop_first=True)"
   ]
  },
  {
   "cell_type": "markdown",
   "metadata": {},
   "source": [
    "В нашей таблице есть, например, столбцы Age и EstimatedSalary, показатели в столбцах и их разброс очень отличаются, алгоритм может решить, что данные EstimatedSalary важнее чем возраст клиентов и произойдет скос результатов.\n",
    "\n",
    "Чтобы этого избежать мы применим метод масштабирования - стандартизация данных."
   ]
  },
  {
   "cell_type": "code",
   "execution_count": 8,
   "metadata": {},
   "outputs": [],
   "source": [
    "#выберем признаки для масштабирования:\n",
    "pd.options.mode.chained_assignment = None\n",
    "\n",
    "numeric = ['CreditScore', 'Age', 'Tenure','Balance', 'NumOfProducts', 'EstimatedSalary']"
   ]
  },
  {
   "cell_type": "code",
   "execution_count": 9,
   "metadata": {},
   "outputs": [],
   "source": [
    "scaler = StandardScaler()\n",
    "scaler.fit(features_train[numeric])\n",
    "\n",
    "features_train[numeric] = scaler.transform(features_train[numeric])\n",
    "features_valid[numeric] = scaler.transform(features_valid[numeric])\n",
    "features_test[numeric] = scaler.transform(features_test[numeric])"
   ]
  },
  {
   "cell_type": "markdown",
   "metadata": {},
   "source": [
    "# Вывод по первому пункту исследования:\n",
    "\n",
    "* Были проверены представленные данные, на типы и пропуски\n",
    "* Были удалены столбцы не влияющие на исследование\n",
    "* Категориальные и количественные признаки были преобразованы с помощью техники OHE (One-Hot Encoding)\n",
    "* Было проведено масштабирование признаков, для того чтобы алгоритм не выделял один признак приоритетнее прочих\n"
   ]
  },
  {
   "cell_type": "markdown",
   "metadata": {},
   "source": [
    "## Исследование задачи"
   ]
  },
  {
   "cell_type": "markdown",
   "metadata": {},
   "source": [
    "Для начала проверим адекватности модели. Чтобы оценить адекватность модели, узнаем, как часто в целевом признаке встречается класс «1» или «0». Количество уникальных значений подсчитывается методом value_counts(). \n",
    "Он группирует строго одинаковые величины.\n"
   ]
  },
  {
   "cell_type": "code",
   "execution_count": 10,
   "metadata": {},
   "outputs": [
    {
     "name": "stdout",
     "output_type": "stream",
     "text": [
      "0    0.7963\n",
      "1    0.2037\n",
      "Name: Exited, dtype: float64\n"
     ]
    },
    {
     "data": {
      "text/plain": [
       "<AxesSubplot:>"
      ]
     },
     "execution_count": 10,
     "metadata": {},
     "output_type": "execute_result"
    },
    {
     "data": {
      "image/png": "[encoded data removed]",
      "text/plain": [
       "<Figure size 432x288 with 1 Axes>"
      ]
     },
     "metadata": {
      "needs_background": "light"
     },
     "output_type": "display_data"
    }
   ],
   "source": [
    "class_frequency = target.value_counts(normalize=True)\n",
    "print(class_frequency)\n",
    "class_frequency.plot(kind='bar',color ='green')"
   ]
  },
  {
   "cell_type": "markdown",
   "metadata": {},
   "source": [
    "На графике мы видим, что около 80% клиентов не уходят из банка. Это неплохо для Банка, но не подходит для обучения модели - создаст дисбаланс."
   ]
  },
  {
   "cell_type": "markdown",
   "metadata": {},
   "source": [
    "Чтобы выявить, как сильно наша модель отличается от случайной, посчитаем — AUC-ROC. Это метрика качества, которая изменяется от 0 до 1. AUC-ROC случайной модели равна 0.5.\n",
    "\n",
    "Сравним результаты:\n",
    "\n",
    "* Случайного дерева\n",
    "* Дерева принятия решений"
   ]
  },
  {
   "cell_type": "code",
   "execution_count": 11,
   "metadata": {},
   "outputs": [],
   "source": [
    "model_DT_1 = DecisionTreeClassifier(random_state = 12345,criterion='gini')\n",
    "model_DT_1.fit(features_train, target_train)\n",
    "\n",
    "probabilities_valid = model_DT_1.predict_proba(features_valid)\n",
    "probabilities_one_valid = probabilities_valid[:, 1]\n",
    "\n",
    "auc_roc_dt = roc_auc_score(target_valid,probabilities_one_valid)"
   ]
  },
  {
   "cell_type": "code",
   "execution_count": 12,
   "metadata": {},
   "outputs": [],
   "source": [
    "model_RF_1 = RandomForestClassifier(random_state = 12345, n_estimators = 101)\n",
    "model_RF_1.fit(features_train, target_train)\n",
    "\n",
    "probabilities_valid = model_RF_1.predict_proba(features_valid)\n",
    "probabilities_one_valid = probabilities_valid[:, 1]\n",
    "\n",
    "auc_roc_rf = roc_auc_score(target_valid,probabilities_one_valid)\n"
   ]
  },
  {
   "cell_type": "code",
   "execution_count": 13,
   "metadata": {},
   "outputs": [
    {
     "name": "stdout",
     "output_type": "stream",
     "text": [
      "AUC-ROC дерева принятия решений: 0.6827906488923438\n",
      "AUC-ROC случайного леса: 0.8520870639514707\n"
     ]
    },
    {
     "data": {
      "image/png": "[encoded data removed]",
      "text/plain": [
       "<Figure size 432x288 with 1 Axes>"
      ]
     },
     "metadata": {
      "needs_background": "light"
     },
     "output_type": "display_data"
    }
   ],
   "source": [
    "fpr, tpr, thresholds = roc_curve(target_valid,probabilities_one_valid) \n",
    "\n",
    "plt.figure()\n",
    "plt.plot(fpr, tpr)\n",
    "\n",
    "plt.plot([0,1], [0,1], linestyle = '--')\n",
    "\n",
    "plt.xlim([0.0, 1.0])\n",
    "plt.ylim([0.0, 1.0])\n",
    "\n",
    "plt.xlabel('False Positive')\n",
    "plt.ylabel('True Positive')\n",
    "\n",
    "plt.title('ROC - кривая')\n",
    "plt.show\n",
    "\n",
    "\n",
    "print('AUC-ROC дерева принятия решений:', auc_roc_dt )\n",
    " \n",
    "\n",
    "print('AUC-ROC случайного леса:', auc_roc_rf )\n",
    " "
   ]
  },
  {
   "cell_type": "markdown",
   "metadata": {},
   "source": [
    "# Вывод по второму пункту исследования:  \n",
    "\n",
    "* Проведена оценка целевого признака и выявлен дисбаланс  \n",
    "* Матрица ошибок указывает на значительное количество ошибок в пробной модели\n",
    "* Мы испробовали методы:\n",
    "\n",
    "- Дерева принятия решений - и получили результат 0.6107559867779601 - неплохо, но этот метод не является самым точным\n",
    "- Случайного леса - и получили результат 0.43645335426030296 - значительно ниже, чем нам нужно. Основная идея метода, заключается в использовании большого ансамбля решающих деревьев, каждое из которых само по себе даёт очень невысокое качество классификации, но за счёт их большого количества результат получается хорошим. \n",
    "- Логистической регрессии - где получили результат 0.5635780361941451 - этот метод был добавлен скорее для некоторого усредненного ориентирования в обстановке.  \n",
    "\n",
    "Таким образом ориентируясь на показатели Случайного леса, как на наиболее достоверные принемаем решение избавиться от дисбаланса и заново обучим модель."
   ]
  },
  {
   "cell_type": "markdown",
   "metadata": {},
   "source": [
    "## Борьба с дисбалансом"
   ]
  },
  {
   "cell_type": "markdown",
   "metadata": {},
   "source": [
    "Поскольку мы знаем что у нас присутсвуют обьекты редкого класса, из-за чего возникает дисбаланс, попробуем придать им больший вес в алгоритме.  \n",
    "\n",
    "Проверим что изменится применяя метод на использованных ранее способах."
   ]
  },
  {
   "cell_type": "code",
   "execution_count": 14,
   "metadata": {},
   "outputs": [
    {
     "name": "stdout",
     "output_type": "stream",
     "text": [
      "У Дерева решений F1: 0.49215922798552475\n",
      "А Accuracy: 0.7895\n"
     ]
    }
   ],
   "source": [
    "#первым возьмем дерево решений:\n",
    "\n",
    "model_DT_1 = DecisionTreeClassifier(random_state = 12345, class_weight='balanced' )\n",
    "model_DT_1.fit(features_train, target_train)\n",
    "\n",
    "predicted_valid = model_DT_1.predict(features_valid)\n",
    "\n",
    "print('У Дерева решений F1:', f1_score(target_valid,predicted_valid))\n",
    "print('А Accuracy:', accuracy_score(target_valid, predicted_valid))"
   ]
  },
  {
   "cell_type": "code",
   "execution_count": 15,
   "metadata": {},
   "outputs": [
    {
     "name": "stdout",
     "output_type": "stream",
     "text": [
      "У Случайного леса F1: 0.558641975308642\n",
      "А Accuracy: 0.857\n"
     ]
    }
   ],
   "source": [
    "#далее возьмем случайный лес:\n",
    "\n",
    "model_RF_1 = RandomForestClassifier(random_state = 12345, class_weight='balanced' )\n",
    "model_RF_1.fit(features_train, target_train)\n",
    "\n",
    "predicted_valid = model_RF_1.predict(features_valid)\n",
    "\n",
    "print('У Случайного леса F1:', f1_score(target_valid,predicted_valid))\n",
    "print('А Accuracy:', accuracy_score(target_valid, predicted_valid))"
   ]
  },
  {
   "cell_type": "markdown",
   "metadata": {},
   "source": [
    "F1 имеет низкий показатель у Дерева решений и Случайного леса. Применим дополнительные меры для устранения дисбаланса."
   ]
  },
  {
   "cell_type": "markdown",
   "metadata": {},
   "source": [
    "# Изменим результат выборки и посмотрим на результат\n",
    "\n",
    "Увеличим выборку. То есть сделаем объекты редкого класса более значительными для модели."
   ]
  },
  {
   "cell_type": "code",
   "execution_count": 16,
   "metadata": {},
   "outputs": [],
   "source": [
    "def upsample(features, target,repeat):    \n",
    "    features_zeros = features[target == 0]\n",
    "    features_ones = features[target == 1]\n",
    "    target_zeros = target[target == 0]\n",
    "    target_ones = target[target == 1]\n",
    "    \n",
    "    features_upsampled = pd.concat([features_zeros] + [features_ones] * repeat)\n",
    "    target_upsampled = pd.concat([target_zeros] + [target_ones] * repeat)\n",
    "    \n",
    "    features_upsampled, target_upsampled = shuffle(features_upsampled, target_upsampled, random_state = 12345)\n",
    "    \n",
    "    return features_upsampled, target_upsampled\n",
    "\n",
    "features_upsampled, target_upsampled = upsample(features_train, target_train, 4)"
   ]
  },
  {
   "cell_type": "code",
   "execution_count": 17,
   "metadata": {},
   "outputs": [
    {
     "name": "stdout",
     "output_type": "stream",
     "text": [
      "Теперь у Дерева решений F1: 0.4826732673267327\n",
      "А Accuracy: 0.791\n"
     ]
    }
   ],
   "source": [
    "model_DT_1 = DecisionTreeClassifier(random_state = 12345)\n",
    "model_DT_1.fit(features_upsampled, target_upsampled)\n",
    "\n",
    "predicted_valid = model_DT_1.predict(features_valid)\n",
    "\n",
    "print('Теперь у Дерева решений F1:', f1_score(target_valid, predicted_valid))\n",
    "print('А Accuracy:', accuracy_score(target_valid, predicted_valid))"
   ]
  },
  {
   "cell_type": "code",
   "execution_count": 18,
   "metadata": {},
   "outputs": [
    {
     "name": "stdout",
     "output_type": "stream",
     "text": [
      "Теперь у Случайного леса F1: 0.6306954436450839\n",
      "А Accuracy: 0.846\n"
     ]
    }
   ],
   "source": [
    "model_RF_1 = RandomForestClassifier(random_state = 12345, n_estimators = 120, max_depth = 12)\n",
    "model_RF_1.fit(features_upsampled, target_upsampled)\n",
    "\n",
    "predicted_valid = model_RF_1.predict(features_valid)\n",
    "\n",
    "print('Теперь у Случайного леса F1:', f1_score(target_valid, predicted_valid))\n",
    "print('А Accuracy:', accuracy_score(target_valid, predicted_valid))"
   ]
  },
  {
   "cell_type": "markdown",
   "metadata": {},
   "source": [
    "\n",
    "\n",
    "# Попробуем уменьшить выборку. \n",
    "\n",
    "Вместо повторения важных вопросов убрем часть неважных."
   ]
  },
  {
   "cell_type": "code",
   "execution_count": 19,
   "metadata": {},
   "outputs": [],
   "source": [
    "def downsample(features, target,fraction):    \n",
    "    features_zeros = features[target == 0]\n",
    "    features_ones = features[target == 1]\n",
    "    target_zeros = target[target == 0]\n",
    "    target_ones = target[target == 1]\n",
    "    \n",
    "    features_downsampled = pd.concat([features_zeros.sample(frac = fraction, random_state = 12345)] + [features_ones])\n",
    "    target_downsampled = pd.concat([target_zeros.sample(frac = fraction, random_state = 12345)] + [target_ones])\n",
    "    \n",
    "    features_downsampled, target_downsampled = shuffle(features_downsampled, target_downsampled, random_state = 12345)\n",
    "    \n",
    "    return features_downsampled, target_downsampled\n",
    "\n",
    "features_downsampled, target_downsampled = downsample(features_train, target_train, 0.3)"
   ]
  },
  {
   "cell_type": "code",
   "execution_count": 20,
   "metadata": {},
   "outputs": [
    {
     "name": "stdout",
     "output_type": "stream",
     "text": [
      "Теперь у Дерева решений F1: 0.46720575022461813\n",
      "А Accuracy: 0.7035\n"
     ]
    }
   ],
   "source": [
    "model_DT_2 = DecisionTreeClassifier(random_state = 12345)\n",
    "model_DT_2.fit(features_downsampled, target_downsampled)\n",
    "\n",
    "predicted_valid = model_DT_2.predict(features_valid)\n",
    "\n",
    "print('Теперь у Дерева решений F1:', f1_score(target_valid, predicted_valid))\n",
    "print('А Accuracy:', accuracy_score(target_valid, predicted_valid))\n",
    "\n",
    "\n",
    "# сохраним результат как новую переменную"
   ]
  },
  {
   "cell_type": "code",
   "execution_count": 21,
   "metadata": {},
   "outputs": [
    {
     "name": "stdout",
     "output_type": "stream",
     "text": [
      "Теперь у Случайного леса F1: 0.635593220338983\n",
      "А Accuracy: 0.828\n"
     ]
    }
   ],
   "source": [
    "model_RF_2 = RandomForestClassifier(random_state = 12345, n_estimators = 150, max_depth = 12)\n",
    "model_RF_2.fit(features_downsampled, target_downsampled)\n",
    "\n",
    "predicted_valid = model_RF_2.predict(features_valid)\n",
    "\n",
    "print('Теперь у Случайного леса F1:', f1_score(target_valid, predicted_valid))\n",
    "print('А Accuracy:', accuracy_score(target_valid, predicted_valid))\n",
    "\n",
    "\n",
    "# сохраним результат как новую переменную"
   ]
  },
  {
   "cell_type": "code",
   "execution_count": 22,
   "metadata": {},
   "outputs": [
    {
     "data": {
      "text/plain": [
       "RandomizedSearchCV(cv=4, estimator=RandomForestClassifier(random_state=12345),\n",
       "                   param_distributions={'bootstrap': [True, False],\n",
       "                                        'max_depth': [None, 2, 4, 6, 8, 10, 12],\n",
       "                                        'max_features': ['auto', 'sqrt', None],\n",
       "                                        'max_leaf_nodes': [None, 10, 20, 30, 40,\n",
       "                                                           50, 60, 70, 80, 90,\n",
       "                                                           100],\n",
       "                                        'min_samples_split': [2, 5, 10],\n",
       "                                        'n_estimators': [2, 4, 6, 8, 10, 12, 14,\n",
       "                                                         16, 18, 20, 22, 24, 26,\n",
       "                                                         28, 30, 32, 34, 36, 38,\n",
       "                                                         40, 42, 44, 46, 48, 50,\n",
       "                                                         52, 54, 56, 58, 60, ...]},\n",
       "                   scoring='f1')"
      ]
     },
     "execution_count": 22,
     "metadata": {},
     "output_type": "execute_result"
    }
   ],
   "source": [
    "param_grid = {\n",
    "    'n_estimators': list(np.arange(2, 151, 2).astype(int)),\n",
    "    'max_depth': [None] + list(np.arange(2,13,2).astype(int)),\n",
    "    'max_features': ['auto', 'sqrt', None],\n",
    "    'max_leaf_nodes': [None] + list(np.arange(10, 101, 10).astype(int)),\n",
    "    'min_samples_split': [2, 5, 10],\n",
    "    'bootstrap': [True, False]\n",
    "}\n",
    "\n",
    "estimator = RandomForestClassifier(random_state = 12345)\n",
    "\n",
    "model = RandomizedSearchCV(estimator, param_grid, cv=4, scoring = 'f1')\n",
    "\n",
    "model.fit(features_train, target_train)"
   ]
  },
  {
   "cell_type": "code",
   "execution_count": 23,
   "metadata": {},
   "outputs": [
    {
     "name": "stdout",
     "output_type": "stream",
     "text": [
      "Среднее значение F1 по выборкам: 0.5341911014061552\n"
     ]
    }
   ],
   "source": [
    "print('Среднее значение F1 по выборкам:', model.best_score_)"
   ]
  },
  {
   "cell_type": "markdown",
   "metadata": {},
   "source": [
    "Результат лучше при увеличении выборки. Поработаем и дальше с Логистической регрессей, которая дает сомнительный результат и со Случайным лесом, который дал лучший результат в F1"
   ]
  },
  {
   "cell_type": "markdown",
   "metadata": {},
   "source": [
    "## Тестирование модели"
   ]
  },
  {
   "cell_type": "code",
   "execution_count": 24,
   "metadata": {},
   "outputs": [
    {
     "name": "stdout",
     "output_type": "stream",
     "text": [
      "Результат F1 для модели Случайного леса стал: 0.6306954436450839\n",
      "Результат AUC - ROC  для модели Случайного леса стал: 0.862352336928608\n"
     ]
    }
   ],
   "source": [
    "# тестируем первый вариант Случайного леса, где мы присвоили вес классу:\n",
    "\n",
    "predictions = model_RF_1.predict(features_valid)\n",
    "\n",
    "probabilities_valid = model_RF_1.predict_proba(features_valid)\n",
    "probabilities_one_valid = probabilities_valid[:, 1]\n",
    "\n",
    "print('Результат F1 для модели Случайного леса стал:',f1_score(target_valid, predictions))\n",
    "print('Результат AUC - ROC  для модели Случайного леса стал:',roc_auc_score(target_valid,probabilities_one_valid))"
   ]
  },
  {
   "cell_type": "code",
   "execution_count": 25,
   "metadata": {},
   "outputs": [
    {
     "name": "stdout",
     "output_type": "stream",
     "text": [
      "Результат F1 для модели Дерева решений стал: 0.4826732673267327\n",
      "Результат AUC - ROC  для модели Дерева решений стал: 0.6748998613405393\n"
     ]
    }
   ],
   "source": [
    "# тестируем первый вариант Дерева решений, где мы уменьшили выборку:\n",
    "\n",
    "predictions = model_DT_1.predict(features_valid)\n",
    "\n",
    "probabilities_valid = model_DT_1.predict_proba(features_valid)\n",
    "probabilities_one_valid = probabilities_valid[:, 1]\n",
    "\n",
    "print('Результат F1 для модели Дерева решений стал:',f1_score(target_valid, predictions))\n",
    "print('Результат AUC - ROC  для модели Дерева решений стал:',roc_auc_score(target_valid,probabilities_one_valid))"
   ]
  },
  {
   "cell_type": "markdown",
   "metadata": {},
   "source": [
    "И если модель Дерева решений улучшилась в F1-метрике, то модель Случайного леса все равно не дотягивает в F1 - метрике.\n",
    "\n",
    "# Пробуем следующие варианты, где мы меняли порог классификации:"
   ]
  },
  {
   "cell_type": "code",
   "execution_count": 26,
   "metadata": {},
   "outputs": [
    {
     "name": "stdout",
     "output_type": "stream",
     "text": [
      "Результат F1 для модели Случайного леса стал: 0.635593220338983\n",
      "Результат AUC - ROC  для модели Случайного леса стал: 0.8673897317965114\n"
     ]
    }
   ],
   "source": [
    "predictions = model_RF_2.predict(features_valid)\n",
    "\n",
    "probabilities_valid = model_RF_2.predict_proba(features_valid)\n",
    "probabilities_one_valid = probabilities_valid[:, 1]\n",
    "\n",
    "print('Результат F1 для модели Случайного леса стал:',f1_score(target_valid, predictions))\n",
    "print('Результат AUC - ROC  для модели Случайного леса стал:',roc_auc_score(target_valid,probabilities_one_valid))"
   ]
  },
  {
   "cell_type": "code",
   "execution_count": 27,
   "metadata": {},
   "outputs": [
    {
     "name": "stdout",
     "output_type": "stream",
     "text": [
      "Результат F1 для модели Дерева решений стал: 0.46720575022461813\n",
      "Результат AUC - ROC  для модели Дерева решений стал: 0.6794228743381285\n"
     ]
    }
   ],
   "source": [
    "predictions = model_DT_2.predict(features_valid)\n",
    "\n",
    "probabilities_valid = model_DT_2.predict_proba(features_valid)\n",
    "probabilities_one_valid = probabilities_valid[:, 1]\n",
    "\n",
    "print('Результат F1 для модели Дерева решений стал:',f1_score(target_valid, predictions))\n",
    "print('Результат AUC - ROC  для модели Дерева решений стал:',roc_auc_score(target_valid,probabilities_one_valid))"
   ]
  },
  {
   "cell_type": "markdown",
   "metadata": {},
   "source": [
    "Выбираем модель Случайного леса с F1-метрикой 0.63 что выше заданного минимального порога 0.59"
   ]
  }
 ],
 "metadata": {
  "ExecuteTimeLog": [
   {
    "duration": 1534,
    "start_time": "2022-11-27T09:47:38.631Z"
   },
   {
    "duration": 164,
    "start_time": "2022-11-27T09:47:41.666Z"
   },
   {
    "duration": 25,
    "start_time": "2022-11-27T09:47:43.357Z"
   },
   {
    "duration": 186,
    "start_time": "2022-11-27T10:53:40.396Z"
   },
   {
    "duration": 113,
    "start_time": "2022-11-27T11:05:18.032Z"
   },
   {
    "duration": 73,
    "start_time": "2022-11-27T11:10:18.243Z"
   },
   {
    "duration": 34,
    "start_time": "2022-11-27T11:11:05.816Z"
   },
   {
    "duration": 24,
    "start_time": "2022-11-27T11:13:31.052Z"
   },
   {
    "duration": 37,
    "start_time": "2022-11-27T11:13:32.059Z"
   },
   {
    "duration": 19,
    "start_time": "2022-11-27T11:13:32.623Z"
   },
   {
    "duration": 189,
    "start_time": "2022-11-27T11:13:33.508Z"
   },
   {
    "duration": 52,
    "start_time": "2022-11-27T11:13:35.421Z"
   },
   {
    "duration": 12,
    "start_time": "2022-11-27T11:22:48.670Z"
   },
   {
    "duration": 9,
    "start_time": "2022-11-27T11:34:01.813Z"
   },
   {
    "duration": 26,
    "start_time": "2022-11-27T11:37:44.099Z"
   },
   {
    "duration": 17,
    "start_time": "2022-11-27T11:38:09.908Z"
   },
   {
    "duration": 9,
    "start_time": "2022-11-27T11:38:23.051Z"
   },
   {
    "duration": 158,
    "start_time": "2022-11-27T11:39:41.028Z"
   },
   {
    "duration": 42,
    "start_time": "2022-11-27T11:39:55.715Z"
   },
   {
    "duration": 19,
    "start_time": "2022-11-27T11:39:59.816Z"
   },
   {
    "duration": 9,
    "start_time": "2022-11-27T11:40:03.870Z"
   },
   {
    "duration": 18,
    "start_time": "2022-11-27T11:41:11.050Z"
   },
   {
    "duration": 11,
    "start_time": "2022-11-27T11:41:19.020Z"
   },
   {
    "duration": 37,
    "start_time": "2022-11-27T11:42:59.256Z"
   },
   {
    "duration": 20,
    "start_time": "2022-11-27T11:43:01.478Z"
   },
   {
    "duration": 181,
    "start_time": "2022-11-27T11:43:10.777Z"
   },
   {
    "duration": 18,
    "start_time": "2022-11-27T11:43:14.722Z"
   },
   {
    "duration": 16,
    "start_time": "2022-11-27T11:43:43.536Z"
   },
   {
    "duration": 56,
    "start_time": "2022-11-27T11:44:14.809Z"
   },
   {
    "duration": 22,
    "start_time": "2022-11-27T11:44:16.856Z"
   },
   {
    "duration": 23,
    "start_time": "2022-11-27T11:44:32.152Z"
   },
   {
    "duration": 12,
    "start_time": "2022-11-27T11:44:37.297Z"
   },
   {
    "duration": 9,
    "start_time": "2022-11-27T11:48:08.717Z"
   },
   {
    "duration": 12,
    "start_time": "2022-11-27T11:48:14.214Z"
   },
   {
    "duration": 11,
    "start_time": "2022-11-27T11:48:39.416Z"
   },
   {
    "duration": 3,
    "start_time": "2022-11-27T11:56:17.371Z"
   },
   {
    "duration": 37,
    "start_time": "2022-11-27T11:56:19.906Z"
   },
   {
    "duration": 20,
    "start_time": "2022-11-27T11:56:21.984Z"
   },
   {
    "duration": 13,
    "start_time": "2022-11-27T11:56:25.377Z"
   },
   {
    "duration": 9,
    "start_time": "2022-11-27T11:56:28.372Z"
   },
   {
    "duration": 7,
    "start_time": "2022-11-27T12:03:29.996Z"
   },
   {
    "duration": 3,
    "start_time": "2022-11-27T12:33:26.365Z"
   },
   {
    "duration": 21,
    "start_time": "2022-11-27T12:33:58.118Z"
   },
   {
    "duration": 5,
    "start_time": "2022-11-27T12:36:59.561Z"
   },
   {
    "duration": 4,
    "start_time": "2022-11-27T12:38:48.616Z"
   },
   {
    "duration": 36,
    "start_time": "2022-11-27T12:38:49.509Z"
   },
   {
    "duration": 21,
    "start_time": "2022-11-27T12:38:51.017Z"
   },
   {
    "duration": 13,
    "start_time": "2022-11-27T12:38:53.362Z"
   },
   {
    "duration": 5,
    "start_time": "2022-11-27T12:38:55.350Z"
   },
   {
    "duration": 3,
    "start_time": "2022-11-27T12:39:24.713Z"
   },
   {
    "duration": 37,
    "start_time": "2022-11-27T12:39:25.370Z"
   },
   {
    "duration": 21,
    "start_time": "2022-11-27T12:39:25.906Z"
   },
   {
    "duration": 13,
    "start_time": "2022-11-27T12:39:26.575Z"
   },
   {
    "duration": 5,
    "start_time": "2022-11-27T12:39:27.768Z"
   },
   {
    "duration": 11,
    "start_time": "2022-11-27T12:39:28.787Z"
   },
   {
    "duration": 7,
    "start_time": "2022-11-27T12:39:30.206Z"
   },
   {
    "duration": 21,
    "start_time": "2022-11-27T12:39:31.748Z"
   },
   {
    "duration": 122,
    "start_time": "2022-11-27T14:19:10.442Z"
   },
   {
    "duration": 115,
    "start_time": "2022-11-27T14:19:50.957Z"
   },
   {
    "duration": 105,
    "start_time": "2022-11-27T14:20:25.288Z"
   },
   {
    "duration": 103,
    "start_time": "2022-11-27T14:20:36.355Z"
   },
   {
    "duration": 3,
    "start_time": "2022-11-27T14:39:50.342Z"
   },
   {
    "duration": 36,
    "start_time": "2022-11-27T14:39:51.102Z"
   },
   {
    "duration": 20,
    "start_time": "2022-11-27T14:39:51.497Z"
   },
   {
    "duration": 16,
    "start_time": "2022-11-27T14:39:51.921Z"
   },
   {
    "duration": 4,
    "start_time": "2022-11-27T14:39:52.301Z"
   },
   {
    "duration": 9,
    "start_time": "2022-11-27T14:39:52.712Z"
   },
   {
    "duration": 8,
    "start_time": "2022-11-27T14:39:53.207Z"
   },
   {
    "duration": 22,
    "start_time": "2022-11-27T14:39:53.601Z"
   },
   {
    "duration": 103,
    "start_time": "2022-11-27T14:39:54.551Z"
   },
   {
    "duration": 81,
    "start_time": "2022-11-27T15:11:22.714Z"
   },
   {
    "duration": 65,
    "start_time": "2022-11-27T15:11:38.953Z"
   },
   {
    "duration": 37,
    "start_time": "2022-11-27T15:11:40.296Z"
   },
   {
    "duration": 25,
    "start_time": "2022-11-27T15:11:41.866Z"
   },
   {
    "duration": 12,
    "start_time": "2022-11-27T15:11:47.076Z"
   },
   {
    "duration": 5,
    "start_time": "2022-11-27T15:11:49.477Z"
   },
   {
    "duration": 10,
    "start_time": "2022-11-27T15:11:51.094Z"
   },
   {
    "duration": 7,
    "start_time": "2022-11-27T15:11:52.904Z"
   },
   {
    "duration": 22,
    "start_time": "2022-11-27T15:11:54.232Z"
   },
   {
    "duration": 105,
    "start_time": "2022-11-27T15:11:57.179Z"
   },
   {
    "duration": 56116,
    "start_time": "2022-11-27T15:12:01.772Z"
   },
   {
    "duration": 62649,
    "start_time": "2022-11-27T15:14:08.145Z"
   },
   {
    "duration": 3,
    "start_time": "2022-11-27T15:35:27.578Z"
   },
   {
    "duration": 4,
    "start_time": "2022-11-27T15:39:35.411Z"
   },
   {
    "duration": 37,
    "start_time": "2022-11-27T15:39:36.529Z"
   },
   {
    "duration": 20,
    "start_time": "2022-11-27T15:39:36.925Z"
   },
   {
    "duration": 15,
    "start_time": "2022-11-27T15:39:37.321Z"
   },
   {
    "duration": 4,
    "start_time": "2022-11-27T15:39:37.730Z"
   },
   {
    "duration": 9,
    "start_time": "2022-11-27T15:39:38.156Z"
   },
   {
    "duration": 7,
    "start_time": "2022-11-27T15:39:38.650Z"
   },
   {
    "duration": 20,
    "start_time": "2022-11-27T15:39:39.396Z"
   },
   {
    "duration": 97,
    "start_time": "2022-11-27T15:39:41.922Z"
   },
   {
    "duration": 96,
    "start_time": "2022-11-27T15:39:42.440Z"
   },
   {
    "duration": 8,
    "start_time": "2022-11-27T15:39:42.962Z"
   },
   {
    "duration": 17,
    "start_time": "2022-11-27T15:39:43.595Z"
   },
   {
    "duration": 8,
    "start_time": "2022-11-27T15:44:23.521Z"
   },
   {
    "duration": 3,
    "start_time": "2022-11-27T15:44:38.444Z"
   },
   {
    "duration": 36,
    "start_time": "2022-11-27T15:44:40.286Z"
   },
   {
    "duration": 20,
    "start_time": "2022-11-27T15:44:42.973Z"
   },
   {
    "duration": 12,
    "start_time": "2022-11-27T15:44:47.805Z"
   },
   {
    "duration": 4,
    "start_time": "2022-11-27T15:44:49.768Z"
   },
   {
    "duration": 9,
    "start_time": "2022-11-27T15:44:55.476Z"
   },
   {
    "duration": 7,
    "start_time": "2022-11-27T15:44:58.042Z"
   },
   {
    "duration": 22,
    "start_time": "2022-11-27T15:45:04.488Z"
   },
   {
    "duration": 100,
    "start_time": "2022-11-27T15:45:09.477Z"
   },
   {
    "duration": 97,
    "start_time": "2022-11-27T15:45:28.359Z"
   },
   {
    "duration": 93,
    "start_time": "2022-11-27T15:47:32.422Z"
   },
   {
    "duration": 5,
    "start_time": "2022-11-27T15:48:43.156Z"
   },
   {
    "duration": 36,
    "start_time": "2022-11-27T15:48:46.718Z"
   },
   {
    "duration": 20,
    "start_time": "2022-11-27T15:48:48.526Z"
   },
   {
    "duration": 12,
    "start_time": "2022-11-27T15:48:52.418Z"
   },
   {
    "duration": 4,
    "start_time": "2022-11-27T15:48:55.272Z"
   },
   {
    "duration": 10,
    "start_time": "2022-11-27T15:48:58.008Z"
   },
   {
    "duration": 8,
    "start_time": "2022-11-27T15:48:59.840Z"
   },
   {
    "duration": 22,
    "start_time": "2022-11-27T15:49:02.600Z"
   },
   {
    "duration": 98,
    "start_time": "2022-11-27T15:49:05.117Z"
   },
   {
    "duration": 104,
    "start_time": "2022-11-27T15:49:08.493Z"
   },
   {
    "duration": 9,
    "start_time": "2022-11-27T15:49:49.602Z"
   },
   {
    "duration": 3,
    "start_time": "2022-11-27T16:05:18.009Z"
   },
   {
    "duration": 37,
    "start_time": "2022-11-27T16:05:18.995Z"
   },
   {
    "duration": 21,
    "start_time": "2022-11-27T16:05:19.869Z"
   },
   {
    "duration": 14,
    "start_time": "2022-11-27T16:05:20.769Z"
   },
   {
    "duration": 4,
    "start_time": "2022-11-27T16:05:21.929Z"
   },
   {
    "duration": 10,
    "start_time": "2022-11-27T16:05:22.774Z"
   },
   {
    "duration": 8,
    "start_time": "2022-11-27T16:05:23.671Z"
   },
   {
    "duration": 24,
    "start_time": "2022-11-27T16:05:24.824Z"
   },
   {
    "duration": 118,
    "start_time": "2022-11-27T16:05:28.411Z"
   },
   {
    "duration": 49,
    "start_time": "2022-11-27T16:10:12.271Z"
   },
   {
    "duration": 8,
    "start_time": "2022-11-27T16:19:52.811Z"
   },
   {
    "duration": 4,
    "start_time": "2022-11-27T16:20:41.251Z"
   },
   {
    "duration": 37,
    "start_time": "2022-11-27T16:20:42.045Z"
   },
   {
    "duration": 21,
    "start_time": "2022-11-27T16:20:42.511Z"
   },
   {
    "duration": 13,
    "start_time": "2022-11-27T16:20:42.979Z"
   },
   {
    "duration": 4,
    "start_time": "2022-11-27T16:20:43.417Z"
   },
   {
    "duration": 9,
    "start_time": "2022-11-27T16:20:43.847Z"
   },
   {
    "duration": 7,
    "start_time": "2022-11-27T16:20:44.278Z"
   },
   {
    "duration": 24,
    "start_time": "2022-11-27T16:20:44.702Z"
   },
   {
    "duration": 110,
    "start_time": "2022-11-27T16:20:45.618Z"
   },
   {
    "duration": 53,
    "start_time": "2022-11-27T16:20:46.336Z"
   },
   {
    "duration": 5,
    "start_time": "2022-11-27T16:21:32.874Z"
   },
   {
    "duration": 5,
    "start_time": "2022-11-27T16:34:13.245Z"
   },
   {
    "duration": 51,
    "start_time": "2022-11-27T16:34:20.078Z"
   },
   {
    "duration": 5,
    "start_time": "2022-11-27T16:34:23.240Z"
   },
   {
    "duration": 11,
    "start_time": "2022-11-27T16:37:26.072Z"
   },
   {
    "duration": 46,
    "start_time": "2022-11-27T16:37:28.839Z"
   },
   {
    "duration": 20,
    "start_time": "2022-11-27T16:37:30.949Z"
   },
   {
    "duration": 13,
    "start_time": "2022-11-27T16:37:35.276Z"
   },
   {
    "duration": 5,
    "start_time": "2022-11-27T16:37:38.628Z"
   },
   {
    "duration": 9,
    "start_time": "2022-11-27T16:37:40.660Z"
   },
   {
    "duration": 7,
    "start_time": "2022-11-27T16:37:42.937Z"
   },
   {
    "duration": 23,
    "start_time": "2022-11-27T16:37:46.172Z"
   },
   {
    "duration": 104,
    "start_time": "2022-11-27T16:37:49.463Z"
   },
   {
    "duration": 48,
    "start_time": "2022-11-27T16:37:53.043Z"
   },
   {
    "duration": 7,
    "start_time": "2022-11-27T16:37:56.993Z"
   },
   {
    "duration": 865,
    "start_time": "2022-11-27T16:38:49.025Z"
   },
   {
    "duration": 5,
    "start_time": "2022-11-27T16:40:08.969Z"
   },
   {
    "duration": 11,
    "start_time": "2022-11-27T16:49:27.924Z"
   },
   {
    "duration": 880,
    "start_time": "2022-11-27T16:49:35.831Z"
   },
   {
    "duration": 28,
    "start_time": "2022-11-27T16:49:41.660Z"
   },
   {
    "duration": 9,
    "start_time": "2022-11-27T16:49:45.546Z"
   },
   {
    "duration": 10,
    "start_time": "2022-11-27T16:49:46.359Z"
   },
   {
    "duration": 12,
    "start_time": "2022-11-27T16:50:04.924Z"
   },
   {
    "duration": 48,
    "start_time": "2022-11-27T16:50:11.427Z"
   },
   {
    "duration": 4,
    "start_time": "2022-11-27T16:50:14.215Z"
   },
   {
    "duration": 1717,
    "start_time": "2022-11-28T08:15:13.552Z"
   },
   {
    "duration": 163,
    "start_time": "2022-11-28T08:15:18.799Z"
   },
   {
    "duration": 32,
    "start_time": "2022-11-28T08:15:20.928Z"
   },
   {
    "duration": 14,
    "start_time": "2022-11-28T08:15:25.125Z"
   },
   {
    "duration": 12,
    "start_time": "2022-11-28T08:15:29.074Z"
   },
   {
    "duration": 14,
    "start_time": "2022-11-28T08:15:31.975Z"
   },
   {
    "duration": 11,
    "start_time": "2022-11-28T08:15:33.994Z"
   },
   {
    "duration": 26,
    "start_time": "2022-11-28T08:15:36.893Z"
   },
   {
    "duration": 122,
    "start_time": "2022-11-28T08:15:43.042Z"
   },
   {
    "duration": 957,
    "start_time": "2022-11-28T08:15:46.956Z"
   },
   {
    "duration": 126,
    "start_time": "2022-11-28T08:15:59.082Z"
   },
   {
    "duration": 26,
    "start_time": "2022-11-28T08:16:04.356Z"
   },
   {
    "duration": 23,
    "start_time": "2022-11-28T08:16:13.867Z"
   },
   {
    "duration": 27,
    "start_time": "2022-11-28T08:16:18.571Z"
   },
   {
    "duration": 6,
    "start_time": "2022-11-28T08:16:34.958Z"
   },
   {
    "duration": 39,
    "start_time": "2022-11-28T08:16:37.528Z"
   },
   {
    "duration": 20,
    "start_time": "2022-11-28T08:16:39.747Z"
   },
   {
    "duration": 17,
    "start_time": "2022-11-28T08:16:44.365Z"
   },
   {
    "duration": 5,
    "start_time": "2022-11-28T08:16:47.307Z"
   },
   {
    "duration": 11,
    "start_time": "2022-11-28T08:16:56.135Z"
   },
   {
    "duration": 8,
    "start_time": "2022-11-28T08:16:58.756Z"
   },
   {
    "duration": 121,
    "start_time": "2022-11-28T08:17:02.267Z"
   },
   {
    "duration": 107,
    "start_time": "2022-11-28T08:17:10.493Z"
   },
   {
    "duration": 901,
    "start_time": "2022-11-28T08:17:14.915Z"
   },
   {
    "duration": 8,
    "start_time": "2022-11-28T08:18:38.494Z"
   },
   {
    "duration": 22,
    "start_time": "2022-11-28T08:18:41.097Z"
   },
   {
    "duration": 118,
    "start_time": "2022-11-28T08:18:44.208Z"
   },
   {
    "duration": 945,
    "start_time": "2022-11-28T08:18:48.137Z"
   },
   {
    "duration": 8,
    "start_time": "2022-11-28T08:19:22.993Z"
   },
   {
    "duration": 913,
    "start_time": "2022-11-28T08:25:08.024Z"
   },
   {
    "duration": 62,
    "start_time": "2022-11-28T08:25:08.939Z"
   },
   {
    "duration": 103,
    "start_time": "2022-11-28T08:25:09.113Z"
   },
   {
    "duration": 4,
    "start_time": "2022-11-28T08:25:09.766Z"
   },
   {
    "duration": 3,
    "start_time": "2022-11-28T08:31:36.155Z"
   },
   {
    "duration": 4,
    "start_time": "2022-11-28T08:34:59.833Z"
   },
   {
    "duration": 245,
    "start_time": "2022-11-28T08:41:16.737Z"
   },
   {
    "duration": 4,
    "start_time": "2022-11-28T08:41:17.333Z"
   },
   {
    "duration": 237,
    "start_time": "2022-11-28T08:41:45.044Z"
   },
   {
    "duration": 4,
    "start_time": "2022-11-28T08:41:45.747Z"
   },
   {
    "duration": 5,
    "start_time": "2022-11-28T08:51:17.245Z"
   },
   {
    "duration": 40,
    "start_time": "2022-11-28T08:51:18.230Z"
   },
   {
    "duration": 26,
    "start_time": "2022-11-28T08:51:20.170Z"
   },
   {
    "duration": 16,
    "start_time": "2022-11-28T08:51:20.806Z"
   },
   {
    "duration": 5,
    "start_time": "2022-11-28T08:51:21.778Z"
   },
   {
    "duration": 11,
    "start_time": "2022-11-28T08:51:22.761Z"
   },
   {
    "duration": 11,
    "start_time": "2022-11-28T08:51:23.868Z"
   },
   {
    "duration": 42,
    "start_time": "2022-11-28T08:51:24.946Z"
   },
   {
    "duration": 112,
    "start_time": "2022-11-28T08:51:27.329Z"
   },
   {
    "duration": 950,
    "start_time": "2022-11-28T08:51:29.055Z"
   },
   {
    "duration": 6,
    "start_time": "2022-11-28T08:51:31.618Z"
   },
   {
    "duration": 48,
    "start_time": "2022-11-28T08:51:33.668Z"
   },
   {
    "duration": 912,
    "start_time": "2022-11-28T08:51:34.394Z"
   },
   {
    "duration": 177,
    "start_time": "2022-11-28T08:51:35.308Z"
   },
   {
    "duration": 4,
    "start_time": "2022-11-28T08:53:18.037Z"
   },
   {
    "duration": 37,
    "start_time": "2022-11-28T08:53:19.928Z"
   },
   {
    "duration": 26,
    "start_time": "2022-11-28T08:53:20.620Z"
   },
   {
    "duration": 15,
    "start_time": "2022-11-28T08:53:21.367Z"
   },
   {
    "duration": 7,
    "start_time": "2022-11-28T08:53:22.507Z"
   },
   {
    "duration": 12,
    "start_time": "2022-11-28T08:53:23.432Z"
   },
   {
    "duration": 10,
    "start_time": "2022-11-28T08:53:24.441Z"
   },
   {
    "duration": 25,
    "start_time": "2022-11-28T08:53:25.528Z"
   },
   {
    "duration": 128,
    "start_time": "2022-11-28T08:53:27.482Z"
   },
   {
    "duration": 987,
    "start_time": "2022-11-28T08:53:29.505Z"
   },
   {
    "duration": 6,
    "start_time": "2022-11-28T08:53:32.146Z"
   },
   {
    "duration": 48,
    "start_time": "2022-11-28T08:53:40.263Z"
   },
   {
    "duration": 934,
    "start_time": "2022-11-28T08:53:40.650Z"
   },
   {
    "duration": 1492,
    "start_time": "2022-11-28T08:53:41.586Z"
   },
   {
    "duration": 4,
    "start_time": "2022-11-28T08:53:43.452Z"
   },
   {
    "duration": 13,
    "start_time": "2022-11-28T09:01:16.469Z"
   },
   {
    "duration": 6,
    "start_time": "2022-11-28T09:02:13.453Z"
   },
   {
    "duration": 48,
    "start_time": "2022-11-28T09:02:14.957Z"
   },
   {
    "duration": 21,
    "start_time": "2022-11-28T09:02:16.009Z"
   },
   {
    "duration": 16,
    "start_time": "2022-11-28T09:02:16.896Z"
   },
   {
    "duration": 5,
    "start_time": "2022-11-28T09:02:17.776Z"
   },
   {
    "duration": 10,
    "start_time": "2022-11-28T09:02:18.840Z"
   },
   {
    "duration": 8,
    "start_time": "2022-11-28T09:02:19.985Z"
   },
   {
    "duration": 24,
    "start_time": "2022-11-28T09:02:20.751Z"
   },
   {
    "duration": 138,
    "start_time": "2022-11-28T09:02:22.659Z"
   },
   {
    "duration": 1008,
    "start_time": "2022-11-28T09:02:24.287Z"
   },
   {
    "duration": 6,
    "start_time": "2022-11-28T09:02:25.886Z"
   },
   {
    "duration": 47,
    "start_time": "2022-11-28T09:02:27.586Z"
   },
   {
    "duration": 980,
    "start_time": "2022-11-28T09:02:28.195Z"
   },
   {
    "duration": 208,
    "start_time": "2022-11-28T09:02:29.179Z"
   },
   {
    "duration": 12,
    "start_time": "2022-11-28T09:02:29.479Z"
   },
   {
    "duration": 130,
    "start_time": "2022-11-28T09:02:30.589Z"
   },
   {
    "duration": 131,
    "start_time": "2022-11-28T09:02:51.161Z"
   },
   {
    "duration": 93,
    "start_time": "2022-11-28T09:07:03.588Z"
   },
   {
    "duration": 14,
    "start_time": "2022-11-28T10:04:15.826Z"
   },
   {
    "duration": 852,
    "start_time": "2022-11-28T10:04:41.710Z"
   },
   {
    "duration": 11,
    "start_time": "2022-11-28T10:04:59.609Z"
   },
   {
    "duration": 51,
    "start_time": "2022-11-28T10:05:16.403Z"
   },
   {
    "duration": 51,
    "start_time": "2022-11-28T10:05:21.098Z"
   },
   {
    "duration": 895,
    "start_time": "2022-11-28T10:05:21.703Z"
   },
   {
    "duration": 287,
    "start_time": "2022-11-28T10:05:22.601Z"
   },
   {
    "duration": 124,
    "start_time": "2022-11-28T10:05:23.091Z"
   },
   {
    "duration": 46,
    "start_time": "2022-11-28T10:07:52.488Z"
   },
   {
    "duration": 46,
    "start_time": "2022-11-28T10:11:55.557Z"
   },
   {
    "duration": 859,
    "start_time": "2022-11-28T10:11:58.028Z"
   },
   {
    "duration": 203,
    "start_time": "2022-11-28T10:12:01.579Z"
   },
   {
    "duration": 135,
    "start_time": "2022-11-28T10:19:33.346Z"
   },
   {
    "duration": 140,
    "start_time": "2022-11-28T10:23:29.641Z"
   },
   {
    "duration": 7,
    "start_time": "2022-11-28T10:30:58.488Z"
   },
   {
    "duration": 63,
    "start_time": "2022-11-28T10:30:59.561Z"
   },
   {
    "duration": 28,
    "start_time": "2022-11-28T10:30:59.984Z"
   },
   {
    "duration": 14,
    "start_time": "2022-11-28T10:31:00.355Z"
   },
   {
    "duration": 5,
    "start_time": "2022-11-28T10:31:00.751Z"
   },
   {
    "duration": 10,
    "start_time": "2022-11-28T10:31:01.166Z"
   },
   {
    "duration": 11,
    "start_time": "2022-11-28T10:31:01.597Z"
   },
   {
    "duration": 31,
    "start_time": "2022-11-28T10:31:01.988Z"
   },
   {
    "duration": 132,
    "start_time": "2022-11-28T10:31:02.852Z"
   },
   {
    "duration": 1111,
    "start_time": "2022-11-28T10:31:03.477Z"
   },
   {
    "duration": 60,
    "start_time": "2022-11-28T10:31:04.590Z"
   },
   {
    "duration": 1138,
    "start_time": "2022-11-28T10:31:04.652Z"
   },
   {
    "duration": 1572,
    "start_time": "2022-11-28T10:31:05.810Z"
   },
   {
    "duration": 253,
    "start_time": "2022-11-28T10:31:07.384Z"
   },
   {
    "duration": 63,
    "start_time": "2022-11-28T10:31:07.638Z"
   },
   {
    "duration": 935,
    "start_time": "2022-11-28T10:31:07.706Z"
   },
   {
    "duration": 1051,
    "start_time": "2022-11-28T10:31:08.643Z"
   },
   {
    "duration": 12,
    "start_time": "2022-11-28T10:41:19.865Z"
   },
   {
    "duration": 10,
    "start_time": "2022-11-28T10:42:11.129Z"
   },
   {
    "duration": 11,
    "start_time": "2022-11-28T10:42:53.212Z"
   },
   {
    "duration": 4,
    "start_time": "2022-11-28T10:44:03.839Z"
   },
   {
    "duration": 41,
    "start_time": "2022-11-28T10:44:05.022Z"
   },
   {
    "duration": 23,
    "start_time": "2022-11-28T10:44:06.788Z"
   },
   {
    "duration": 13,
    "start_time": "2022-11-28T10:44:08.164Z"
   },
   {
    "duration": 6,
    "start_time": "2022-11-28T10:44:09.493Z"
   },
   {
    "duration": 10,
    "start_time": "2022-11-28T10:44:10.799Z"
   },
   {
    "duration": 8,
    "start_time": "2022-11-28T10:44:12.425Z"
   },
   {
    "duration": 32,
    "start_time": "2022-11-28T10:44:13.962Z"
   },
   {
    "duration": 113,
    "start_time": "2022-11-28T10:44:16.702Z"
   },
   {
    "duration": 932,
    "start_time": "2022-11-28T10:44:24.508Z"
   },
   {
    "duration": 50,
    "start_time": "2022-11-28T10:44:27.374Z"
   },
   {
    "duration": 897,
    "start_time": "2022-11-28T10:44:28.175Z"
   },
   {
    "duration": 521,
    "start_time": "2022-11-28T10:44:29.073Z"
   },
   {
    "duration": 200,
    "start_time": "2022-11-28T10:44:29.690Z"
   },
   {
    "duration": 49,
    "start_time": "2022-11-28T10:44:34.645Z"
   },
   {
    "duration": 882,
    "start_time": "2022-11-28T10:44:35.550Z"
   },
   {
    "duration": 555,
    "start_time": "2022-11-28T10:44:36.434Z"
   },
   {
    "duration": 13,
    "start_time": "2022-11-28T10:44:43.004Z"
   },
   {
    "duration": 11,
    "start_time": "2022-11-28T10:45:29.399Z"
   },
   {
    "duration": 95,
    "start_time": "2022-11-28T10:55:36.593Z"
   },
   {
    "duration": 19,
    "start_time": "2022-11-28T11:07:18.596Z"
   },
   {
    "duration": 26,
    "start_time": "2022-11-28T11:08:15.293Z"
   },
   {
    "duration": 6,
    "start_time": "2022-11-28T11:11:59.438Z"
   },
   {
    "duration": 48,
    "start_time": "2022-11-28T11:12:00.242Z"
   },
   {
    "duration": 22,
    "start_time": "2022-11-28T11:12:00.717Z"
   },
   {
    "duration": 14,
    "start_time": "2022-11-28T11:12:01.189Z"
   },
   {
    "duration": 5,
    "start_time": "2022-11-28T11:12:01.648Z"
   },
   {
    "duration": 11,
    "start_time": "2022-11-28T11:12:02.119Z"
   },
   {
    "duration": 9,
    "start_time": "2022-11-28T11:12:02.570Z"
   },
   {
    "duration": 23,
    "start_time": "2022-11-28T11:12:03.039Z"
   },
   {
    "duration": 166,
    "start_time": "2022-11-28T11:12:04.064Z"
   },
   {
    "duration": 1094,
    "start_time": "2022-11-28T11:12:04.760Z"
   },
   {
    "duration": 64,
    "start_time": "2022-11-28T11:12:05.856Z"
   },
   {
    "duration": 946,
    "start_time": "2022-11-28T11:12:05.923Z"
   },
   {
    "duration": 428,
    "start_time": "2022-11-28T11:12:06.871Z"
   },
   {
    "duration": 212,
    "start_time": "2022-11-28T11:12:07.385Z"
   },
   {
    "duration": 58,
    "start_time": "2022-11-28T11:12:09.647Z"
   },
   {
    "duration": 973,
    "start_time": "2022-11-28T11:12:10.319Z"
   },
   {
    "duration": 488,
    "start_time": "2022-11-28T11:12:11.294Z"
   },
   {
    "duration": 106,
    "start_time": "2022-11-28T11:12:14.089Z"
   },
   {
    "duration": 22,
    "start_time": "2022-11-28T11:12:17.157Z"
   },
   {
    "duration": 15,
    "start_time": "2022-11-28T11:17:36.144Z"
   },
   {
    "duration": 10,
    "start_time": "2022-11-28T11:17:37.341Z"
   },
   {
    "duration": 33,
    "start_time": "2022-11-28T11:18:23.325Z"
   },
   {
    "duration": 209,
    "start_time": "2022-11-28T11:18:27.379Z"
   },
   {
    "duration": 95,
    "start_time": "2022-11-28T11:18:31.995Z"
   },
   {
    "duration": 27,
    "start_time": "2022-11-28T11:18:35.313Z"
   },
   {
    "duration": 13,
    "start_time": "2022-11-28T11:18:59.830Z"
   },
   {
    "duration": 38,
    "start_time": "2022-11-28T11:19:27.462Z"
   },
   {
    "duration": 931,
    "start_time": "2022-11-28T11:19:43.841Z"
   },
   {
    "duration": 385,
    "start_time": "2022-11-28T11:19:56.305Z"
   },
   {
    "duration": 78,
    "start_time": "2022-11-28T11:19:58.047Z"
   },
   {
    "duration": 27,
    "start_time": "2022-11-28T11:20:01.289Z"
   },
   {
    "duration": 46,
    "start_time": "2022-11-28T11:20:04.753Z"
   },
   {
    "duration": 9,
    "start_time": "2022-11-28T11:20:06.746Z"
   },
   {
    "duration": 31,
    "start_time": "2022-11-28T11:20:30.009Z"
   },
   {
    "duration": 45,
    "start_time": "2022-11-28T11:20:41.272Z"
   },
   {
    "duration": 29,
    "start_time": "2022-11-28T11:20:55.836Z"
   },
   {
    "duration": 42,
    "start_time": "2022-11-28T11:21:07.773Z"
   },
   {
    "duration": 32,
    "start_time": "2022-11-28T11:21:13.304Z"
   },
   {
    "duration": 49,
    "start_time": "2022-11-28T11:21:23.049Z"
   },
   {
    "duration": 64,
    "start_time": "2022-11-28T11:21:29.014Z"
   },
   {
    "duration": 571,
    "start_time": "2022-11-28T11:21:33.516Z"
   },
   {
    "duration": 71,
    "start_time": "2022-11-28T11:21:44.826Z"
   },
   {
    "duration": 39,
    "start_time": "2022-11-28T11:22:28.897Z"
   },
   {
    "duration": 14,
    "start_time": "2022-11-28T11:22:30.592Z"
   },
   {
    "duration": 344,
    "start_time": "2022-11-28T11:32:16.837Z"
   },
   {
    "duration": 54,
    "start_time": "2022-11-28T11:34:57.564Z"
   },
   {
    "duration": 49,
    "start_time": "2022-11-28T11:35:09.889Z"
   },
   {
    "duration": 999,
    "start_time": "2022-11-28T11:35:22.854Z"
   },
   {
    "duration": 1179,
    "start_time": "2022-11-28T11:35:35.623Z"
   },
   {
    "duration": 72,
    "start_time": "2022-11-28T11:39:53.211Z"
   },
   {
    "duration": 73,
    "start_time": "2022-11-28T11:39:56.010Z"
   },
   {
    "duration": 44,
    "start_time": "2022-11-28T11:40:14.097Z"
   },
   {
    "duration": 19,
    "start_time": "2022-11-28T11:40:14.935Z"
   },
   {
    "duration": 43,
    "start_time": "2022-11-28T11:40:15.709Z"
   },
   {
    "duration": 14,
    "start_time": "2022-11-28T11:40:17.731Z"
   },
   {
    "duration": 7,
    "start_time": "2022-11-28T11:47:22.688Z"
   },
   {
    "duration": 44,
    "start_time": "2022-11-28T11:47:23.475Z"
   },
   {
    "duration": 31,
    "start_time": "2022-11-28T11:47:23.989Z"
   },
   {
    "duration": 25,
    "start_time": "2022-11-28T11:47:24.473Z"
   },
   {
    "duration": 5,
    "start_time": "2022-11-28T11:47:24.996Z"
   },
   {
    "duration": 10,
    "start_time": "2022-11-28T11:47:25.923Z"
   },
   {
    "duration": 10,
    "start_time": "2022-11-28T11:47:26.515Z"
   },
   {
    "duration": 31,
    "start_time": "2022-11-28T11:47:27.045Z"
   },
   {
    "duration": 117,
    "start_time": "2022-11-28T11:47:28.397Z"
   },
   {
    "duration": 933,
    "start_time": "2022-11-28T11:47:29.297Z"
   },
   {
    "duration": 54,
    "start_time": "2022-11-28T11:47:30.232Z"
   },
   {
    "duration": 933,
    "start_time": "2022-11-28T11:47:30.664Z"
   },
   {
    "duration": 2578,
    "start_time": "2022-11-28T11:47:31.599Z"
   },
   {
    "duration": 234,
    "start_time": "2022-11-28T11:47:34.179Z"
   },
   {
    "duration": 74,
    "start_time": "2022-11-28T11:47:34.416Z"
   },
   {
    "duration": 940,
    "start_time": "2022-11-28T11:47:34.495Z"
   },
   {
    "duration": 761,
    "start_time": "2022-11-28T11:47:35.437Z"
   },
   {
    "duration": 75,
    "start_time": "2022-11-28T11:47:36.581Z"
   },
   {
    "duration": 25,
    "start_time": "2022-11-28T11:47:39.452Z"
   },
   {
    "duration": 13,
    "start_time": "2022-11-28T11:51:42.093Z"
   },
   {
    "duration": 971,
    "start_time": "2022-11-28T11:51:50.860Z"
   },
   {
    "duration": 958,
    "start_time": "2022-11-28T11:52:17.540Z"
   },
   {
    "duration": 789,
    "start_time": "2022-11-28T11:54:12.724Z"
   },
   {
    "duration": 38,
    "start_time": "2022-11-28T11:54:57.804Z"
   },
   {
    "duration": 10,
    "start_time": "2022-11-28T11:54:59.710Z"
   },
   {
    "duration": 41,
    "start_time": "2022-11-28T11:55:00.959Z"
   },
   {
    "duration": 11,
    "start_time": "2022-11-28T11:55:01.752Z"
   },
   {
    "duration": 63,
    "start_time": "2022-11-28T11:58:14.825Z"
   },
   {
    "duration": 909,
    "start_time": "2022-11-28T11:58:19.195Z"
   },
   {
    "duration": 271,
    "start_time": "2022-11-28T11:58:23.710Z"
   },
   {
    "duration": 121,
    "start_time": "2022-11-28T11:58:30.867Z"
   },
   {
    "duration": 43,
    "start_time": "2022-11-28T11:58:33.050Z"
   },
   {
    "duration": 36,
    "start_time": "2022-11-28T12:00:15.596Z"
   },
   {
    "duration": 14,
    "start_time": "2022-11-28T12:00:18.420Z"
   },
   {
    "duration": 37,
    "start_time": "2022-11-28T12:00:29.602Z"
   },
   {
    "duration": 52,
    "start_time": "2022-11-28T12:00:30.330Z"
   },
   {
    "duration": 35,
    "start_time": "2022-11-28T12:01:32.070Z"
   },
   {
    "duration": 477,
    "start_time": "2022-11-28T12:02:45.626Z"
   },
   {
    "duration": 68,
    "start_time": "2022-11-28T12:03:32.246Z"
   },
   {
    "duration": 26,
    "start_time": "2022-11-28T12:03:47.805Z"
   },
   {
    "duration": 1894,
    "start_time": "2022-11-28T12:05:45.995Z"
   },
   {
    "duration": 33,
    "start_time": "2022-11-28T12:06:31.004Z"
   },
   {
    "duration": 73,
    "start_time": "2022-11-28T12:07:01.521Z"
   },
   {
    "duration": 931,
    "start_time": "2022-11-28T12:07:07.543Z"
   },
   {
    "duration": 908,
    "start_time": "2022-11-28T12:07:33.120Z"
   },
   {
    "duration": 39,
    "start_time": "2022-11-28T12:09:51.323Z"
   },
   {
    "duration": 49,
    "start_time": "2022-11-28T12:10:03.955Z"
   },
   {
    "duration": 41,
    "start_time": "2022-11-28T12:12:10.392Z"
   },
   {
    "duration": 77,
    "start_time": "2022-11-28T12:12:32.194Z"
   },
   {
    "duration": 15,
    "start_time": "2022-11-28T12:13:00.836Z"
   },
   {
    "duration": 42,
    "start_time": "2022-11-28T12:13:23.393Z"
   },
   {
    "duration": 44,
    "start_time": "2022-11-28T12:17:28.360Z"
   },
   {
    "duration": 15,
    "start_time": "2022-11-28T12:18:00.306Z"
   },
   {
    "duration": 28,
    "start_time": "2022-11-28T12:28:40.192Z"
   },
   {
    "duration": 1005,
    "start_time": "2022-11-28T12:29:15.395Z"
   },
   {
    "duration": 1011,
    "start_time": "2022-11-28T12:29:45.282Z"
   },
   {
    "duration": 1013,
    "start_time": "2022-11-28T12:29:58.307Z"
   },
   {
    "duration": 41,
    "start_time": "2022-11-28T12:32:44.875Z"
   },
   {
    "duration": 14,
    "start_time": "2022-11-28T12:33:02.193Z"
   },
   {
    "duration": 34,
    "start_time": "2022-11-28T12:33:49.693Z"
   },
   {
    "duration": 10,
    "start_time": "2022-11-28T12:33:56.541Z"
   },
   {
    "duration": 8,
    "start_time": "2022-11-28T12:36:32.866Z"
   },
   {
    "duration": 43,
    "start_time": "2022-11-28T12:39:50.548Z"
   },
   {
    "duration": 10,
    "start_time": "2022-11-28T12:39:54.644Z"
   },
   {
    "duration": 46,
    "start_time": "2022-11-28T12:40:00.923Z"
   },
   {
    "duration": 10,
    "start_time": "2022-11-28T12:40:06.749Z"
   },
   {
    "duration": 71,
    "start_time": "2022-11-28T12:40:39.955Z"
   },
   {
    "duration": 18,
    "start_time": "2022-11-28T12:41:05.043Z"
   },
   {
    "duration": 70,
    "start_time": "2022-11-28T12:43:49.906Z"
   },
   {
    "duration": 103,
    "start_time": "2022-11-28T12:43:52.879Z"
   },
   {
    "duration": 977,
    "start_time": "2022-11-28T12:44:28.021Z"
   },
   {
    "duration": 70,
    "start_time": "2022-11-28T12:44:39.320Z"
   },
   {
    "duration": 69,
    "start_time": "2022-11-28T12:45:35.088Z"
   },
   {
    "duration": 947,
    "start_time": "2022-11-28T12:45:51.073Z"
   },
   {
    "duration": 71,
    "start_time": "2022-11-28T12:46:01.719Z"
   },
   {
    "duration": 967,
    "start_time": "2022-11-28T12:46:13.729Z"
   },
   {
    "duration": 75,
    "start_time": "2022-11-28T12:46:23.423Z"
   },
   {
    "duration": 15,
    "start_time": "2022-11-28T12:46:27.069Z"
   },
   {
    "duration": 1034,
    "start_time": "2022-11-28T12:47:24.486Z"
   },
   {
    "duration": 63,
    "start_time": "2022-11-28T12:47:40.474Z"
   },
   {
    "duration": 1054,
    "start_time": "2022-11-28T12:47:55.231Z"
   },
   {
    "duration": 85,
    "start_time": "2022-11-28T12:48:03.656Z"
   },
   {
    "duration": 923,
    "start_time": "2022-11-28T12:48:15.963Z"
   },
   {
    "duration": 27,
    "start_time": "2022-11-28T12:48:30.462Z"
   },
   {
    "duration": 63,
    "start_time": "2022-11-28T12:48:36.715Z"
   },
   {
    "duration": 29,
    "start_time": "2022-11-28T12:48:43.002Z"
   },
   {
    "duration": 32,
    "start_time": "2022-11-28T12:48:52.567Z"
   },
   {
    "duration": 39,
    "start_time": "2022-11-28T12:48:58.653Z"
   },
   {
    "duration": 24,
    "start_time": "2022-11-28T12:50:41.179Z"
   },
   {
    "duration": 487,
    "start_time": "2022-11-28T12:50:49.188Z"
   },
   {
    "duration": 598,
    "start_time": "2022-11-28T12:50:56.257Z"
   },
   {
    "duration": 1009,
    "start_time": "2022-11-28T12:51:03.740Z"
   },
   {
    "duration": 425,
    "start_time": "2022-11-28T12:51:10.826Z"
   },
   {
    "duration": 457,
    "start_time": "2022-11-28T12:51:36.800Z"
   },
   {
    "duration": 65,
    "start_time": "2022-11-28T12:53:17.834Z"
   },
   {
    "duration": 60,
    "start_time": "2022-11-28T12:54:30.160Z"
   },
   {
    "duration": 952,
    "start_time": "2022-11-28T12:54:30.712Z"
   },
   {
    "duration": 217,
    "start_time": "2022-11-28T12:54:31.665Z"
   },
   {
    "duration": 138,
    "start_time": "2022-11-28T12:54:37.824Z"
   },
   {
    "duration": 53,
    "start_time": "2022-11-28T12:55:47.353Z"
   },
   {
    "duration": 908,
    "start_time": "2022-11-28T12:56:19.192Z"
   },
   {
    "duration": 253,
    "start_time": "2022-11-28T12:57:03.429Z"
   },
   {
    "duration": 91,
    "start_time": "2022-11-28T12:58:17.393Z"
   },
   {
    "duration": 26,
    "start_time": "2022-11-28T12:58:43.231Z"
   },
   {
    "duration": 1798,
    "start_time": "2022-11-28T12:58:53.940Z"
   },
   {
    "duration": 1790,
    "start_time": "2022-11-28T12:59:18.319Z"
   },
   {
    "duration": 31,
    "start_time": "2022-11-28T13:00:54.604Z"
   },
   {
    "duration": 410,
    "start_time": "2022-11-28T13:01:20.801Z"
   },
   {
    "duration": 728,
    "start_time": "2022-11-28T13:01:31.224Z"
   },
   {
    "duration": 612,
    "start_time": "2022-11-28T13:01:40.751Z"
   },
   {
    "duration": 541,
    "start_time": "2022-11-28T13:01:46.719Z"
   },
   {
    "duration": 892,
    "start_time": "2022-11-28T13:01:53.483Z"
   },
   {
    "duration": 858,
    "start_time": "2022-11-28T13:02:01.507Z"
   },
   {
    "duration": 684,
    "start_time": "2022-11-28T13:02:07.263Z"
   },
   {
    "duration": 544,
    "start_time": "2022-11-28T13:02:12.735Z"
   },
   {
    "duration": 481,
    "start_time": "2022-11-28T13:02:18.729Z"
   },
   {
    "duration": 456,
    "start_time": "2022-11-28T13:02:24.270Z"
   },
   {
    "duration": 13,
    "start_time": "2022-11-28T13:02:31.418Z"
   },
   {
    "duration": 479,
    "start_time": "2022-11-28T13:02:51.170Z"
   },
   {
    "duration": 971,
    "start_time": "2022-11-28T13:03:56.653Z"
   },
   {
    "duration": 12,
    "start_time": "2022-11-28T13:04:28.736Z"
   },
   {
    "duration": 10,
    "start_time": "2022-11-28T13:04:40.553Z"
   },
   {
    "duration": 1073,
    "start_time": "2022-11-28T13:05:03.224Z"
   },
   {
    "duration": 2271,
    "start_time": "2022-11-28T13:05:33.699Z"
   },
   {
    "duration": 1837,
    "start_time": "2022-11-28T13:05:42.584Z"
   },
   {
    "duration": 2214,
    "start_time": "2022-11-28T13:05:51.992Z"
   },
   {
    "duration": 1842,
    "start_time": "2022-11-28T13:06:01.217Z"
   },
   {
    "duration": 1377,
    "start_time": "2022-11-28T13:06:09.814Z"
   },
   {
    "duration": 1049,
    "start_time": "2022-11-28T13:06:16.312Z"
   },
   {
    "duration": 18,
    "start_time": "2022-11-28T13:06:26.237Z"
   },
   {
    "duration": 886,
    "start_time": "2022-11-28T13:06:34.820Z"
   },
   {
    "duration": 51,
    "start_time": "2022-11-28T13:06:44.886Z"
   },
   {
    "duration": 33,
    "start_time": "2022-11-28T13:07:31.937Z"
   },
   {
    "duration": 917,
    "start_time": "2022-11-28T13:07:35.626Z"
   },
   {
    "duration": 28,
    "start_time": "2022-11-28T13:07:55.248Z"
   },
   {
    "duration": 468,
    "start_time": "2022-11-28T13:08:11.082Z"
   },
   {
    "duration": 1000,
    "start_time": "2022-11-28T13:09:18.279Z"
   },
   {
    "duration": 507,
    "start_time": "2022-11-28T13:09:53.310Z"
   },
   {
    "duration": 38,
    "start_time": "2022-11-28T13:10:19.056Z"
   },
   {
    "duration": 16,
    "start_time": "2022-11-28T13:10:49.857Z"
   },
   {
    "duration": 958,
    "start_time": "2022-11-28T13:12:11.831Z"
   },
   {
    "duration": 971,
    "start_time": "2022-11-28T13:12:31.070Z"
   },
   {
    "duration": 435,
    "start_time": "2022-11-28T13:12:43.779Z"
   },
   {
    "duration": 17,
    "start_time": "2022-11-28T13:12:46.794Z"
   },
   {
    "duration": 16,
    "start_time": "2022-11-28T13:12:49.352Z"
   },
   {
    "duration": 16,
    "start_time": "2022-11-28T13:13:15.793Z"
   },
   {
    "duration": 62,
    "start_time": "2022-11-28T13:13:43.412Z"
   },
   {
    "duration": 919,
    "start_time": "2022-11-28T13:14:21.329Z"
   },
   {
    "duration": 398,
    "start_time": "2022-11-28T13:14:23.036Z"
   },
   {
    "duration": 63,
    "start_time": "2022-11-28T13:14:33.752Z"
   },
   {
    "duration": 16,
    "start_time": "2022-11-28T13:14:37.983Z"
   },
   {
    "duration": 60,
    "start_time": "2022-11-28T13:14:57.285Z"
   },
   {
    "duration": 15,
    "start_time": "2022-11-28T13:15:19.889Z"
   },
   {
    "duration": 258,
    "start_time": "2022-11-28T16:02:12.591Z"
   },
   {
    "duration": 10,
    "start_time": "2022-11-28T16:03:37.089Z"
   },
   {
    "duration": 70,
    "start_time": "2022-11-28T16:04:17.606Z"
   },
   {
    "duration": 40,
    "start_time": "2022-11-28T16:04:56.239Z"
   },
   {
    "duration": 86,
    "start_time": "2022-11-28T16:05:23.747Z"
   },
   {
    "duration": 40,
    "start_time": "2022-11-28T16:05:55.261Z"
   },
   {
    "duration": 87,
    "start_time": "2022-11-28T16:34:02.279Z"
   },
   {
    "duration": 10,
    "start_time": "2022-11-28T16:34:14.798Z"
   },
   {
    "duration": 5,
    "start_time": "2022-11-28T16:35:50.450Z"
   },
   {
    "duration": 44,
    "start_time": "2022-11-28T16:35:51.396Z"
   },
   {
    "duration": 22,
    "start_time": "2022-11-28T16:35:51.909Z"
   },
   {
    "duration": 15,
    "start_time": "2022-11-28T16:35:52.609Z"
   },
   {
    "duration": 5,
    "start_time": "2022-11-28T16:35:53.513Z"
   },
   {
    "duration": 14,
    "start_time": "2022-11-28T16:35:54.148Z"
   },
   {
    "duration": 8,
    "start_time": "2022-11-28T16:35:54.898Z"
   },
   {
    "duration": 26,
    "start_time": "2022-11-28T16:35:55.815Z"
   },
   {
    "duration": 119,
    "start_time": "2022-11-28T16:35:57.015Z"
   },
   {
    "duration": 879,
    "start_time": "2022-11-28T16:35:58.007Z"
   },
   {
    "duration": 48,
    "start_time": "2022-11-28T16:35:59.013Z"
   },
   {
    "duration": 947,
    "start_time": "2022-11-28T16:35:59.518Z"
   },
   {
    "duration": 315,
    "start_time": "2022-11-28T16:36:00.467Z"
   },
   {
    "duration": 220,
    "start_time": "2022-11-28T16:36:00.784Z"
   },
   {
    "duration": 58,
    "start_time": "2022-11-28T16:36:03.406Z"
   },
   {
    "duration": 1115,
    "start_time": "2022-11-28T16:36:04.012Z"
   },
   {
    "duration": 478,
    "start_time": "2022-11-28T16:36:05.400Z"
   },
   {
    "duration": 37,
    "start_time": "2022-11-28T16:36:12.763Z"
   },
   {
    "duration": 932,
    "start_time": "2022-11-28T16:36:13.971Z"
   },
   {
    "duration": 26,
    "start_time": "2022-11-28T16:36:22.534Z"
   },
   {
    "duration": 537,
    "start_time": "2022-11-28T16:36:24.213Z"
   },
   {
    "duration": 938,
    "start_time": "2022-11-28T16:36:29.649Z"
   },
   {
    "duration": 371,
    "start_time": "2022-11-28T16:36:32.939Z"
   },
   {
    "duration": 74,
    "start_time": "2022-11-28T16:36:46.194Z"
   },
   {
    "duration": 13,
    "start_time": "2022-11-28T16:36:50.468Z"
   },
   {
    "duration": 79,
    "start_time": "2022-11-28T16:36:59.983Z"
   },
   {
    "duration": 17,
    "start_time": "2022-11-28T16:37:06.616Z"
   },
   {
    "duration": 12,
    "start_time": "2022-11-28T16:37:07.623Z"
   },
   {
    "duration": 7,
    "start_time": "2022-11-28T16:54:58.405Z"
   },
   {
    "duration": 42,
    "start_time": "2022-11-28T16:54:59.278Z"
   },
   {
    "duration": 31,
    "start_time": "2022-11-28T16:54:59.702Z"
   },
   {
    "duration": 14,
    "start_time": "2022-11-28T16:55:00.214Z"
   },
   {
    "duration": 5,
    "start_time": "2022-11-28T16:55:00.844Z"
   },
   {
    "duration": 11,
    "start_time": "2022-11-28T16:55:01.430Z"
   },
   {
    "duration": 8,
    "start_time": "2022-11-28T16:55:02.642Z"
   },
   {
    "duration": 24,
    "start_time": "2022-11-28T16:55:03.551Z"
   },
   {
    "duration": 127,
    "start_time": "2022-11-28T16:55:05.502Z"
   },
   {
    "duration": 883,
    "start_time": "2022-11-28T16:55:07.486Z"
   },
   {
    "duration": 142,
    "start_time": "2022-11-28T17:00:37.111Z"
   },
   {
    "duration": 50,
    "start_time": "2022-11-28T17:00:41.171Z"
   },
   {
    "duration": 138,
    "start_time": "2022-11-28T17:00:44.651Z"
   },
   {
    "duration": 49,
    "start_time": "2022-11-28T17:01:50.027Z"
   },
   {
    "duration": 948,
    "start_time": "2022-11-28T17:01:50.510Z"
   },
   {
    "duration": 1422,
    "start_time": "2022-11-28T17:01:51.460Z"
   },
   {
    "duration": 216,
    "start_time": "2022-11-28T17:01:52.883Z"
   },
   {
    "duration": 134,
    "start_time": "2022-11-28T17:02:12.450Z"
   },
   {
    "duration": 115,
    "start_time": "2022-11-28T17:02:31.721Z"
   },
   {
    "duration": 49,
    "start_time": "2022-11-28T17:03:18.577Z"
   },
   {
    "duration": 56,
    "start_time": "2022-11-28T17:04:02.547Z"
   },
   {
    "duration": 961,
    "start_time": "2022-11-28T17:04:14.379Z"
   },
   {
    "duration": 380,
    "start_time": "2022-11-28T17:04:18.709Z"
   },
   {
    "duration": 12,
    "start_time": "2022-11-28T17:08:59.697Z"
   },
   {
    "duration": 11,
    "start_time": "2022-11-28T17:09:31.406Z"
   },
   {
    "duration": 19,
    "start_time": "2022-11-28T17:10:02.532Z"
   },
   {
    "duration": 11,
    "start_time": "2022-11-28T17:11:25.189Z"
   },
   {
    "duration": 10,
    "start_time": "2022-11-28T17:12:32.053Z"
   },
   {
    "duration": 6,
    "start_time": "2022-11-28T17:12:37.956Z"
   },
   {
    "duration": 37,
    "start_time": "2022-11-28T17:12:39.033Z"
   },
   {
    "duration": 23,
    "start_time": "2022-11-28T17:12:40.098Z"
   },
   {
    "duration": 13,
    "start_time": "2022-11-28T17:12:41.940Z"
   },
   {
    "duration": 5,
    "start_time": "2022-11-28T17:12:43.342Z"
   },
   {
    "duration": 13,
    "start_time": "2022-11-28T17:12:44.448Z"
   },
   {
    "duration": 8,
    "start_time": "2022-11-28T17:12:46.493Z"
   },
   {
    "duration": 21,
    "start_time": "2022-11-28T17:12:48.422Z"
   },
   {
    "duration": 106,
    "start_time": "2022-11-28T17:12:51.362Z"
   },
   {
    "duration": 869,
    "start_time": "2022-11-28T17:12:54.431Z"
   },
   {
    "duration": 18,
    "start_time": "2022-11-28T17:13:00.760Z"
   },
   {
    "duration": 10,
    "start_time": "2022-11-28T17:13:02.437Z"
   },
   {
    "duration": 350,
    "start_time": "2022-11-28T17:13:21.068Z"
   },
   {
    "duration": 122,
    "start_time": "2022-11-28T17:14:43.542Z"
   },
   {
    "duration": 51,
    "start_time": "2022-11-28T17:15:10.551Z"
   },
   {
    "duration": 850,
    "start_time": "2022-11-28T17:15:16.235Z"
   },
   {
    "duration": 1033,
    "start_time": "2022-11-28T17:15:53.213Z"
   },
   {
    "duration": 27,
    "start_time": "2022-11-28T17:17:50.490Z"
   },
   {
    "duration": 306,
    "start_time": "2022-11-28T17:18:31.540Z"
   },
   {
    "duration": 451,
    "start_time": "2022-11-28T17:18:46.855Z"
   },
   {
    "duration": 571,
    "start_time": "2022-11-28T17:18:55.857Z"
   },
   {
    "duration": 495,
    "start_time": "2022-11-28T17:19:11.006Z"
   },
   {
    "duration": 1053,
    "start_time": "2022-11-28T17:19:53.455Z"
   },
   {
    "duration": 1603,
    "start_time": "2022-11-28T17:20:04.864Z"
   },
   {
    "duration": 2214,
    "start_time": "2022-11-28T17:20:13.435Z"
   },
   {
    "duration": 2496,
    "start_time": "2022-11-28T17:20:21.841Z"
   },
   {
    "duration": 4015,
    "start_time": "2022-11-28T17:20:30.675Z"
   },
   {
    "duration": 9174,
    "start_time": "2022-11-28T17:20:41.505Z"
   },
   {
    "duration": 44387,
    "start_time": "2022-11-28T17:21:31.868Z"
   },
   {
    "duration": 43993,
    "start_time": "2022-11-28T17:23:09.278Z"
   },
   {
    "duration": 9160,
    "start_time": "2022-11-28T17:24:00.236Z"
   },
   {
    "duration": 932,
    "start_time": "2022-11-28T17:24:14.946Z"
   },
   {
    "duration": 25,
    "start_time": "2022-11-28T17:24:37.592Z"
   },
   {
    "duration": 960,
    "start_time": "2022-11-28T17:24:43.886Z"
   },
   {
    "duration": 26,
    "start_time": "2022-11-28T17:25:25.607Z"
   },
   {
    "duration": 23,
    "start_time": "2022-11-28T17:25:41.456Z"
   },
   {
    "duration": 532,
    "start_time": "2022-11-28T17:25:46.445Z"
   },
   {
    "duration": 938,
    "start_time": "2022-11-28T17:25:58.532Z"
   },
   {
    "duration": 1036,
    "start_time": "2022-11-28T17:27:55.664Z"
   },
   {
    "duration": 73,
    "start_time": "2022-11-28T17:28:03.851Z"
   },
   {
    "duration": 81,
    "start_time": "2022-11-28T17:28:21.833Z"
   },
   {
    "duration": 107,
    "start_time": "2022-11-28T17:29:15.891Z"
   },
   {
    "duration": 17,
    "start_time": "2022-11-28T17:29:16.758Z"
   },
   {
    "duration": 12,
    "start_time": "2022-11-28T17:31:04.849Z"
   },
   {
    "duration": 1593,
    "start_time": "2022-11-29T09:59:03.698Z"
   },
   {
    "duration": 166,
    "start_time": "2022-11-29T09:59:06.116Z"
   },
   {
    "duration": 25,
    "start_time": "2022-11-29T09:59:08.848Z"
   },
   {
    "duration": 14,
    "start_time": "2022-11-29T09:59:12.684Z"
   },
   {
    "duration": 6,
    "start_time": "2022-11-29T09:59:15.644Z"
   },
   {
    "duration": 112,
    "start_time": "2022-11-29T10:03:03.145Z"
   },
   {
    "duration": 7,
    "start_time": "2022-11-29T10:04:05.927Z"
   },
   {
    "duration": 11,
    "start_time": "2022-11-29T10:04:08.005Z"
   },
   {
    "duration": 8,
    "start_time": "2022-11-29T10:29:37.302Z"
   },
   {
    "duration": 8,
    "start_time": "2022-11-29T10:29:42.813Z"
   },
   {
    "duration": 20,
    "start_time": "2022-11-29T10:30:26.889Z"
   },
   {
    "duration": 30,
    "start_time": "2022-11-29T10:30:37.530Z"
   },
   {
    "duration": 27,
    "start_time": "2022-11-29T10:31:00.670Z"
   },
   {
    "duration": 30,
    "start_time": "2022-11-29T10:31:34.728Z"
   },
   {
    "duration": 27,
    "start_time": "2022-11-29T10:32:08.983Z"
   },
   {
    "duration": 6,
    "start_time": "2022-11-29T10:32:16.534Z"
   },
   {
    "duration": 49,
    "start_time": "2022-11-29T10:32:17.619Z"
   },
   {
    "duration": 23,
    "start_time": "2022-11-29T10:32:20.803Z"
   },
   {
    "duration": 14,
    "start_time": "2022-11-29T10:32:23.319Z"
   },
   {
    "duration": 7,
    "start_time": "2022-11-29T10:32:34.283Z"
   },
   {
    "duration": 8,
    "start_time": "2022-11-29T10:32:43.871Z"
   },
   {
    "duration": 10,
    "start_time": "2022-11-29T10:32:45.977Z"
   },
   {
    "duration": 29,
    "start_time": "2022-11-29T10:32:51.472Z"
   },
   {
    "duration": 3,
    "start_time": "2022-11-29T10:33:34.301Z"
   },
   {
    "duration": 40,
    "start_time": "2022-11-29T10:33:39.463Z"
   },
   {
    "duration": 2967,
    "start_time": "2022-11-29T10:35:02.643Z"
   },
   {
    "duration": 0,
    "start_time": "2022-11-29T10:35:05.612Z"
   },
   {
    "duration": 2,
    "start_time": "2022-11-29T10:35:17.587Z"
   },
   {
    "duration": 29,
    "start_time": "2022-11-29T10:35:44.525Z"
   },
   {
    "duration": 3,
    "start_time": "2022-11-29T10:38:47.515Z"
   },
   {
    "duration": 28,
    "start_time": "2022-11-29T10:38:51.706Z"
   },
   {
    "duration": 9,
    "start_time": "2022-11-29T10:39:44.322Z"
   },
   {
    "duration": 24,
    "start_time": "2022-11-29T10:39:56.801Z"
   },
   {
    "duration": 18,
    "start_time": "2022-11-29T10:40:43.375Z"
   },
   {
    "duration": 12,
    "start_time": "2022-11-29T10:40:44.356Z"
   },
   {
    "duration": 8,
    "start_time": "2022-11-29T10:40:59.464Z"
   },
   {
    "duration": 9,
    "start_time": "2022-11-29T10:42:22.325Z"
   },
   {
    "duration": 7,
    "start_time": "2022-11-29T10:42:23.240Z"
   },
   {
    "duration": 3,
    "start_time": "2022-11-29T10:42:26.573Z"
   },
   {
    "duration": 8,
    "start_time": "2022-11-29T10:42:27.653Z"
   },
   {
    "duration": 25,
    "start_time": "2022-11-29T10:42:50.374Z"
   },
   {
    "duration": 15,
    "start_time": "2022-11-29T10:43:58.973Z"
   },
   {
    "duration": 26,
    "start_time": "2022-11-29T10:44:05.954Z"
   },
   {
    "duration": 32,
    "start_time": "2022-11-29T10:44:44.582Z"
   },
   {
    "duration": 69,
    "start_time": "2022-11-29T10:49:11.075Z"
   },
   {
    "duration": 8,
    "start_time": "2022-11-29T10:49:39.473Z"
   },
   {
    "duration": 9,
    "start_time": "2022-11-29T10:52:29.243Z"
   },
   {
    "duration": 9,
    "start_time": "2022-11-29T10:52:29.804Z"
   },
   {
    "duration": 3,
    "start_time": "2022-11-29T10:52:33.455Z"
   },
   {
    "duration": 10,
    "start_time": "2022-11-29T10:52:34.211Z"
   },
   {
    "duration": 46,
    "start_time": "2022-11-29T10:52:35.187Z"
   },
   {
    "duration": 33,
    "start_time": "2022-11-29T10:52:58.797Z"
   },
   {
    "duration": 21,
    "start_time": "2022-11-29T10:53:59.915Z"
   },
   {
    "duration": 8,
    "start_time": "2022-11-29T10:54:12.110Z"
   },
   {
    "duration": 8,
    "start_time": "2022-11-29T10:54:13.883Z"
   },
   {
    "duration": 12,
    "start_time": "2022-11-29T11:17:23.360Z"
   },
   {
    "duration": 7,
    "start_time": "2022-11-29T11:17:32.616Z"
   },
   {
    "duration": 40,
    "start_time": "2022-11-29T11:17:33.425Z"
   },
   {
    "duration": 24,
    "start_time": "2022-11-29T11:17:34.857Z"
   },
   {
    "duration": 13,
    "start_time": "2022-11-29T11:17:36.037Z"
   },
   {
    "duration": 6,
    "start_time": "2022-11-29T11:17:38.443Z"
   },
   {
    "duration": 11,
    "start_time": "2022-11-29T11:17:42.617Z"
   },
   {
    "duration": 13,
    "start_time": "2022-11-29T11:20:18.860Z"
   },
   {
    "duration": 10,
    "start_time": "2022-11-29T11:20:20.720Z"
   },
   {
    "duration": 3,
    "start_time": "2022-11-29T11:22:14.760Z"
   },
   {
    "duration": 26,
    "start_time": "2022-11-29T11:22:15.760Z"
   },
   {
    "duration": 118,
    "start_time": "2022-11-29T11:23:30.466Z"
   },
   {
    "duration": 21,
    "start_time": "2022-11-29T11:23:47.717Z"
   },
   {
    "duration": 9,
    "start_time": "2022-11-29T11:25:31.337Z"
   },
   {
    "duration": 9,
    "start_time": "2022-11-29T11:25:31.910Z"
   },
   {
    "duration": 6,
    "start_time": "2022-11-29T11:25:47.282Z"
   },
   {
    "duration": 40,
    "start_time": "2022-11-29T11:25:48.381Z"
   },
   {
    "duration": 21,
    "start_time": "2022-11-29T11:25:50.315Z"
   },
   {
    "duration": 14,
    "start_time": "2022-11-29T11:25:51.949Z"
   },
   {
    "duration": 5,
    "start_time": "2022-11-29T11:25:55.481Z"
   },
   {
    "duration": 14,
    "start_time": "2022-11-29T11:25:59.663Z"
   },
   {
    "duration": 10,
    "start_time": "2022-11-29T11:26:00.317Z"
   },
   {
    "duration": 20,
    "start_time": "2022-11-29T11:27:30.597Z"
   },
   {
    "duration": 7,
    "start_time": "2022-11-29T11:27:31.145Z"
   },
   {
    "duration": 2,
    "start_time": "2022-11-29T11:27:34.709Z"
   },
   {
    "duration": 24,
    "start_time": "2022-11-29T11:27:35.287Z"
   },
   {
    "duration": 122,
    "start_time": "2022-11-29T11:27:45.652Z"
   },
   {
    "duration": 11,
    "start_time": "2022-11-29T11:27:49.608Z"
   },
   {
    "duration": 40,
    "start_time": "2022-11-29T11:28:16.163Z"
   },
   {
    "duration": 42,
    "start_time": "2022-11-29T11:32:38.826Z"
   },
   {
    "duration": 33,
    "start_time": "2022-11-29T11:34:38.065Z"
   },
   {
    "duration": 11,
    "start_time": "2022-11-29T11:34:53.644Z"
   },
   {
    "duration": 727,
    "start_time": "2022-11-29T11:35:06.126Z"
   },
   {
    "duration": 125,
    "start_time": "2022-11-29T11:35:09.240Z"
   },
   {
    "duration": 110,
    "start_time": "2022-11-29T11:35:26.393Z"
   },
   {
    "duration": 39,
    "start_time": "2022-11-29T11:35:45.183Z"
   },
   {
    "duration": 675,
    "start_time": "2022-11-29T11:35:49.099Z"
   },
   {
    "duration": 11,
    "start_time": "2022-11-29T11:37:05.878Z"
   },
   {
    "duration": 10,
    "start_time": "2022-11-29T11:40:32.874Z"
   },
   {
    "duration": 12,
    "start_time": "2022-11-29T11:40:49.103Z"
   },
   {
    "duration": 34,
    "start_time": "2022-11-29T11:40:52.839Z"
   },
   {
    "duration": 700,
    "start_time": "2022-11-29T11:40:56.157Z"
   },
   {
    "duration": 11,
    "start_time": "2022-11-29T11:41:24.931Z"
   },
   {
    "duration": 11,
    "start_time": "2022-11-29T11:41:31.156Z"
   },
   {
    "duration": 20,
    "start_time": "2022-11-29T11:41:38.612Z"
   },
   {
    "duration": 11,
    "start_time": "2022-11-29T12:10:25.847Z"
   },
   {
    "duration": 5,
    "start_time": "2022-11-29T12:11:04.719Z"
   },
   {
    "duration": 42,
    "start_time": "2022-11-29T12:11:06.668Z"
   },
   {
    "duration": 21,
    "start_time": "2022-11-29T12:11:08.015Z"
   },
   {
    "duration": 12,
    "start_time": "2022-11-29T12:11:08.789Z"
   },
   {
    "duration": 4,
    "start_time": "2022-11-29T12:11:10.276Z"
   },
   {
    "duration": 14,
    "start_time": "2022-11-29T12:11:13.143Z"
   },
   {
    "duration": 9,
    "start_time": "2022-11-29T12:11:13.589Z"
   },
   {
    "duration": 14,
    "start_time": "2022-11-29T12:11:19.409Z"
   },
   {
    "duration": 7,
    "start_time": "2022-11-29T12:11:19.936Z"
   },
   {
    "duration": 3,
    "start_time": "2022-11-29T12:11:22.579Z"
   },
   {
    "duration": 25,
    "start_time": "2022-11-29T12:11:23.614Z"
   },
   {
    "duration": 107,
    "start_time": "2022-11-29T12:11:28.516Z"
   },
   {
    "duration": 33,
    "start_time": "2022-11-29T12:11:31.093Z"
   },
   {
    "duration": 665,
    "start_time": "2022-11-29T12:11:32.056Z"
   },
   {
    "duration": 113,
    "start_time": "2022-11-29T12:11:33.039Z"
   },
   {
    "duration": 38,
    "start_time": "2022-11-29T12:11:37.710Z"
   },
   {
    "duration": 644,
    "start_time": "2022-11-29T12:11:42.606Z"
   },
   {
    "duration": 13,
    "start_time": "2022-11-29T12:11:57.368Z"
   },
   {
    "duration": 12,
    "start_time": "2022-11-29T12:13:01.728Z"
   },
   {
    "duration": 11,
    "start_time": "2022-11-29T12:13:43.340Z"
   },
   {
    "duration": 40,
    "start_time": "2022-11-29T12:14:15.048Z"
   },
   {
    "duration": 952,
    "start_time": "2022-11-29T12:14:15.937Z"
   },
   {
    "duration": 11,
    "start_time": "2022-11-29T12:14:19.708Z"
   },
   {
    "duration": 19,
    "start_time": "2022-11-29T12:14:23.583Z"
   },
   {
    "duration": 412,
    "start_time": "2022-11-29T12:14:25.167Z"
   },
   {
    "duration": 14613,
    "start_time": "2022-11-29T12:14:27.312Z"
   },
   {
    "duration": 4,
    "start_time": "2022-11-29T12:14:41.927Z"
   },
   {
    "duration": 31,
    "start_time": "2022-11-29T12:14:41.932Z"
   },
   {
    "duration": 0,
    "start_time": "2022-11-29T12:14:41.965Z"
   },
   {
    "duration": 15182,
    "start_time": "2022-11-29T12:16:00.027Z"
   },
   {
    "duration": 4,
    "start_time": "2022-11-29T12:16:15.211Z"
   },
   {
    "duration": 16178,
    "start_time": "2022-11-29T12:16:51.133Z"
   },
   {
    "duration": 4,
    "start_time": "2022-11-29T12:17:07.312Z"
   },
   {
    "duration": 660,
    "start_time": "2022-11-29T12:18:26.342Z"
   },
   {
    "duration": 113,
    "start_time": "2022-11-29T12:18:31.177Z"
   },
   {
    "duration": 12,
    "start_time": "2022-11-29T12:18:35.244Z"
   },
   {
    "duration": 113,
    "start_time": "2022-11-29T12:18:44.252Z"
   },
   {
    "duration": 12,
    "start_time": "2022-11-29T12:18:46.319Z"
   },
   {
    "duration": 11019,
    "start_time": "2022-11-29T12:21:44.763Z"
   },
   {
    "duration": 5,
    "start_time": "2022-11-29T12:21:58.807Z"
   },
   {
    "duration": 4,
    "start_time": "2022-11-29T12:22:05.880Z"
   },
   {
    "duration": 13939,
    "start_time": "2022-11-29T12:22:25.171Z"
   },
   {
    "duration": 4,
    "start_time": "2022-11-29T12:22:42.168Z"
   },
   {
    "duration": 8335,
    "start_time": "2022-11-29T12:22:50.683Z"
   },
   {
    "duration": 4,
    "start_time": "2022-11-29T12:23:08.112Z"
   },
   {
    "duration": 9512,
    "start_time": "2022-11-29T12:23:25.615Z"
   },
   {
    "duration": 4,
    "start_time": "2022-11-29T12:23:38.046Z"
   },
   {
    "duration": 9362,
    "start_time": "2022-11-29T12:23:48.094Z"
   },
   {
    "duration": 4,
    "start_time": "2022-11-29T12:24:31.899Z"
   },
   {
    "duration": 19130,
    "start_time": "2022-11-29T12:24:38.728Z"
   },
   {
    "duration": 5,
    "start_time": "2022-11-29T12:24:57.860Z"
   },
   {
    "duration": 21060,
    "start_time": "2022-11-29T12:25:08.638Z"
   },
   {
    "duration": 6,
    "start_time": "2022-11-29T12:25:29.700Z"
   },
   {
    "duration": 796,
    "start_time": "2022-11-29T12:25:47.426Z"
   },
   {
    "duration": 15622,
    "start_time": "2022-11-29T12:26:22.783Z"
   },
   {
    "duration": 4,
    "start_time": "2022-11-29T12:26:43.161Z"
   },
   {
    "duration": 12395,
    "start_time": "2022-11-29T12:26:54.180Z"
   },
   {
    "duration": 3,
    "start_time": "2022-11-29T12:27:06.661Z"
   },
   {
    "duration": 3,
    "start_time": "2022-11-29T12:27:13.543Z"
   },
   {
    "duration": 6292,
    "start_time": "2022-11-29T12:27:53.081Z"
   },
   {
    "duration": 3,
    "start_time": "2022-11-29T12:28:06.131Z"
   },
   {
    "duration": 20153,
    "start_time": "2022-11-29T12:28:57.629Z"
   },
   {
    "duration": 5,
    "start_time": "2022-11-29T12:29:22.476Z"
   },
   {
    "duration": 3,
    "start_time": "2022-11-29T12:32:55.435Z"
   },
   {
    "duration": 19262,
    "start_time": "2022-11-29T12:33:04.906Z"
   },
   {
    "duration": 72,
    "start_time": "2022-11-29T12:34:12.734Z"
   },
   {
    "duration": 13,
    "start_time": "2022-11-29T12:34:25.434Z"
   },
   {
    "duration": 9221,
    "start_time": "2022-11-29T12:38:40.238Z"
   },
   {
    "duration": 3,
    "start_time": "2022-11-29T12:38:55.902Z"
   },
   {
    "duration": 8952,
    "start_time": "2022-11-29T12:39:43.372Z"
   },
   {
    "duration": 3,
    "start_time": "2022-11-29T12:39:52.326Z"
   },
   {
    "duration": 9640,
    "start_time": "2022-11-29T12:40:08.083Z"
   },
   {
    "duration": 3,
    "start_time": "2022-11-29T12:40:17.725Z"
   },
   {
    "duration": 14467,
    "start_time": "2022-11-29T12:40:25.165Z"
   },
   {
    "duration": 393,
    "start_time": "2022-11-29T12:41:30.417Z"
   },
   {
    "duration": 349,
    "start_time": "2022-11-29T12:41:38.857Z"
   },
   {
    "duration": 516,
    "start_time": "2022-11-29T12:41:49.251Z"
   },
   {
    "duration": 19207,
    "start_time": "2022-11-29T12:42:06.840Z"
   },
   {
    "duration": 3,
    "start_time": "2022-11-29T12:42:27.255Z"
   },
   {
    "duration": 108,
    "start_time": "2022-11-29T12:42:52.984Z"
   },
   {
    "duration": 12,
    "start_time": "2022-11-29T12:42:55.802Z"
   },
   {
    "duration": 128,
    "start_time": "2022-11-29T12:43:04.755Z"
   },
   {
    "duration": 15,
    "start_time": "2022-11-29T12:43:09.459Z"
   },
   {
    "duration": 131,
    "start_time": "2022-11-29T12:44:04.301Z"
   },
   {
    "duration": 14,
    "start_time": "2022-11-29T12:44:06.921Z"
   },
   {
    "duration": 1501,
    "start_time": "2022-11-30T08:07:54.297Z"
   },
   {
    "duration": 168,
    "start_time": "2022-11-30T08:07:57.291Z"
   },
   {
    "duration": 26,
    "start_time": "2022-11-30T08:07:59.248Z"
   },
   {
    "duration": 13,
    "start_time": "2022-11-30T08:08:02.908Z"
   },
   {
    "duration": 5,
    "start_time": "2022-11-30T08:08:05.484Z"
   },
   {
    "duration": 15,
    "start_time": "2022-11-30T08:08:14.141Z"
   },
   {
    "duration": 22,
    "start_time": "2022-11-30T08:08:14.818Z"
   },
   {
    "duration": 3,
    "start_time": "2022-11-30T08:08:26.440Z"
   },
   {
    "duration": 25,
    "start_time": "2022-11-30T08:08:27.119Z"
   },
   {
    "duration": 112,
    "start_time": "2022-11-30T08:08:33.264Z"
   },
   {
    "duration": 35,
    "start_time": "2022-11-30T08:08:38.454Z"
   },
   {
    "duration": 675,
    "start_time": "2022-11-30T08:08:39.052Z"
   },
   {
    "duration": 125,
    "start_time": "2022-11-30T08:08:39.915Z"
   },
   {
    "duration": 39,
    "start_time": "2022-11-30T08:08:45.791Z"
   },
   {
    "duration": 627,
    "start_time": "2022-11-30T08:08:51.538Z"
   },
   {
    "duration": 81,
    "start_time": "2022-11-30T08:09:01.378Z"
   },
   {
    "duration": 39,
    "start_time": "2022-11-30T08:09:09.940Z"
   },
   {
    "duration": 928,
    "start_time": "2022-11-30T08:09:13.431Z"
   },
   {
    "duration": 10,
    "start_time": "2022-11-30T08:09:18.074Z"
   },
   {
    "duration": 19,
    "start_time": "2022-11-30T08:09:24.162Z"
   },
   {
    "duration": 500,
    "start_time": "2022-11-30T08:09:27.264Z"
   },
   {
    "duration": 13239,
    "start_time": "2022-11-30T08:09:46.969Z"
   },
   {
    "duration": 3,
    "start_time": "2022-11-30T08:10:00.210Z"
   },
   {
    "duration": 115,
    "start_time": "2022-11-30T08:10:11.648Z"
   },
   {
    "duration": 12,
    "start_time": "2022-11-30T08:10:13.347Z"
   },
   {
    "duration": 127,
    "start_time": "2022-11-30T08:10:23.515Z"
   },
   {
    "duration": 13,
    "start_time": "2022-11-30T08:10:25.015Z"
   }
  ],
  "kernelspec": {
   "display_name": "Python 3 (ipykernel)",
   "language": "python",
   "name": "python3"
  },
  "language_info": {
   "codemirror_mode": {
    "name": "ipython",
    "version": 3
   },
   "file_extension": ".py",
   "mimetype": "text/x-python",
   "name": "python",
   "nbconvert_exporter": "python",
   "pygments_lexer": "ipython3",
   "version": "3.9.5"
  },
  "toc": {
   "base_numbering": 1,
   "nav_menu": {},
   "number_sections": true,
   "sideBar": true,
   "skip_h1_title": true,
   "title_cell": "Содержание",
   "title_sidebar": "Contents",
   "toc_cell": true,
   "toc_position": {
    "height": "calc(100% - 180px)",
    "left": "10px",
    "top": "150px",
    "width": "165px"
   },
   "toc_section_display": true,
   "toc_window_display": true
  }
 },
 "nbformat": 4,
 "nbformat_minor": 2
}
